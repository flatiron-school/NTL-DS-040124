{
 "cells": [
  {
   "cell_type": "markdown",
   "metadata": {
    "index": 0
   },
   "source": [
    "# Phase 4 Code Challenge Review"
   ]
  },
  {
   "cell_type": "markdown",
   "metadata": {},
   "source": [
    "## Overview\n",
    "\n",
    "- Pipelines and gridsearching\n",
    "- Ensemble Methods\n",
    "- Natural Language Processing\n",
    "- Clustering"
   ]
  },
  {
   "cell_type": "code",
   "execution_count": 1,
   "metadata": {},
   "outputs": [],
   "source": [
    "# Basic Imports\n",
    "import pandas as pd\n",
    "import numpy as np\n",
    "import matplotlib.pyplot as plt\n",
    "from sklearn.preprocessing import StandardScaler\n",
    "from sklearn.linear_model import LogisticRegression\n",
    "from sklearn.ensemble import RandomForestClassifier\n",
    "from sklearn.model_selection import train_test_split, GridSearchCV\n",
    "from sklearn.pipeline import Pipeline"
   ]
  },
  {
   "cell_type": "code",
   "execution_count": null,
   "metadata": {},
   "outputs": [],
   "source": [
    "# from src.call import call_on_students"
   ]
  },
  {
   "cell_type": "markdown",
   "metadata": {},
   "source": [
    "# 1) Pipelines and Gridsearching"
   ]
  },
  {
   "cell_type": "markdown",
   "metadata": {},
   "source": [
    "### What are the benefits of using a pipline?"
   ]
  },
  {
   "cell_type": "code",
   "execution_count": null,
   "metadata": {},
   "outputs": [],
   "source": [
    "# call_on_students(1)"
   ]
  },
  {
   "cell_type": "markdown",
   "metadata": {},
   "source": [
    "- simplify workflow\n",
    "    - makes model validation more streamlined, and easier to compare model to model\n",
    "    - allows to compartalized our steps, leads easier debugging and easier adjusting\n",
    "- ensure consistency b/t train and test data\n",
    "    - makes dataprocessing efficient\n",
    "    - helps to prevent data leakage\n",
    "- makes model iteration more efficient\n",
    "    - incorporate gridsearch and pipelines\n",
    "- eliminates data leakage when we use cross validation\n",
    "    - splits and then feeds each split through pipeline"
   ]
  },
  {
   "cell_type": "markdown",
   "metadata": {},
   "source": [
    "### What does a gridsearch achieve?"
   ]
  },
  {
   "cell_type": "code",
   "execution_count": null,
   "metadata": {},
   "outputs": [],
   "source": [
    "# call_on_students(1)"
   ]
  },
  {
   "cell_type": "markdown",
   "metadata": {},
   "source": [
    "- allows to perform a comprehension/exhaustive search across hyperparameter values\n",
    "    - can look at all possible combinations at once, via the same evaluation process\n",
    "    - tunes hyperparameters in tandem\n",
    "- can return best_estimator object, easy to pull out the 'best' model\n",
    "    - can use many different metrics, including custom ones\n",
    "- all helps to make model optimization easier and more efficient"
   ]
  },
  {
   "cell_type": "markdown",
   "metadata": {},
   "source": [
    "### Set up a pipeline with a scaler and a logistic regression model on the breast cancer dataset that predicts whether the tumor is malignant (target = 1). Don't worry for now about a train-test split."
   ]
  },
  {
   "cell_type": "code",
   "execution_count": null,
   "metadata": {},
   "outputs": [],
   "source": [
    "# call_on_students(1)"
   ]
  },
  {
   "cell_type": "markdown",
   "metadata": {},
   "source": [
    "**Answer**:"
   ]
  },
  {
   "cell_type": "code",
   "execution_count": 2,
   "metadata": {},
   "outputs": [],
   "source": [
    "from sklearn.datasets import load_breast_cancer\n",
    "X, y = load_breast_cancer(return_X_y=True)"
   ]
  },
  {
   "cell_type": "code",
   "execution_count": 3,
   "metadata": {},
   "outputs": [],
   "source": [
    "# Your code here\n",
    "ss = StandardScaler()\n",
    "log_pipe = Pipeline(steps=[('scaler', ss),\n",
    "                          ('logreg', LogisticRegression(random_state=42))])"
   ]
  },
  {
   "cell_type": "code",
   "execution_count": 4,
   "metadata": {},
   "outputs": [
    {
     "data": {
      "text/plain": [
       "Pipeline(steps=[('scaler', StandardScaler()),\n",
       "                ('logreg', LogisticRegression(random_state=42))])"
      ]
     },
     "execution_count": 4,
     "metadata": {},
     "output_type": "execute_result"
    }
   ],
   "source": [
    "log_pipe"
   ]
  },
  {
   "cell_type": "markdown",
   "metadata": {},
   "source": [
    "### Split the data into train and test and then gridsearch over pipelines like the one you just built to find the best-performing model. Try C (inverse regularization) values of 10, 1, and 0.1. Try out the best estimator on the test set."
   ]
  },
  {
   "cell_type": "code",
   "execution_count": null,
   "metadata": {},
   "outputs": [],
   "source": [
    "# call_on_students(1)"
   ]
  },
  {
   "cell_type": "markdown",
   "metadata": {},
   "source": [
    "**Answer**:"
   ]
  },
  {
   "cell_type": "code",
   "execution_count": 5,
   "metadata": {},
   "outputs": [],
   "source": [
    "# Train test split\n",
    "X_train, X_test, y_train, y_test = train_test_split(X, y, random_state=42)"
   ]
  },
  {
   "cell_type": "code",
   "execution_count": 6,
   "metadata": {
    "scrolled": true
   },
   "outputs": [
    {
     "data": {
      "text/plain": [
       "((426, 30), (426,))"
      ]
     },
     "execution_count": 6,
     "metadata": {},
     "output_type": "execute_result"
    }
   ],
   "source": [
    "X_train.shape, y_train.shape"
   ]
  },
  {
   "cell_type": "code",
   "execution_count": 13,
   "metadata": {},
   "outputs": [
    {
     "data": {
      "text/plain": [
       "{'C': 1.0,\n",
       " 'class_weight': None,\n",
       " 'dual': False,\n",
       " 'fit_intercept': True,\n",
       " 'intercept_scaling': 1,\n",
       " 'l1_ratio': None,\n",
       " 'max_iter': 100,\n",
       " 'multi_class': 'auto',\n",
       " 'n_jobs': None,\n",
       " 'penalty': 'l2',\n",
       " 'random_state': 42,\n",
       " 'solver': 'lbfgs',\n",
       " 'tol': 0.0001,\n",
       " 'verbose': 0,\n",
       " 'warm_start': False}"
      ]
     },
     "execution_count": 13,
     "metadata": {},
     "output_type": "execute_result"
    }
   ],
   "source": [
    "log_pipe.named_steps['logreg'].get_params()"
   ]
  },
  {
   "cell_type": "code",
   "execution_count": 14,
   "metadata": {
    "scrolled": true
   },
   "outputs": [
    {
     "data": {
      "text/plain": [
       "GridSearchCV(cv=5,\n",
       "             estimator=Pipeline(steps=[('scaler', StandardScaler()),\n",
       "                                       ('logreg',\n",
       "                                        LogisticRegression(random_state=42))]),\n",
       "             param_grid={'logreg__C': [0.1, 1, 10]})"
      ]
     },
     "execution_count": 14,
     "metadata": {},
     "output_type": "execute_result"
    }
   ],
   "source": [
    "# Your code here\n",
    "param_grid = {'logreg__C': [0.1, 1, 10]}\n",
    "log_gs = GridSearchCV(log_pipe, param_grid=param_grid, cv=5, )\n",
    "log_gs.fit(X=X_train, y=y_train)"
   ]
  },
  {
   "cell_type": "code",
   "execution_count": 15,
   "metadata": {},
   "outputs": [
    {
     "data": {
      "text/plain": [
       "{'logreg__C': 10}"
      ]
     },
     "execution_count": 15,
     "metadata": {},
     "output_type": "execute_result"
    }
   ],
   "source": [
    "log_gs.best_params_"
   ]
  },
  {
   "cell_type": "code",
   "execution_count": 16,
   "metadata": {},
   "outputs": [
    {
     "data": {
      "text/plain": [
       "0.9764705882352942"
      ]
     },
     "execution_count": 16,
     "metadata": {},
     "output_type": "execute_result"
    }
   ],
   "source": [
    "log_gs.best_score_"
   ]
  },
  {
   "cell_type": "code",
   "execution_count": 17,
   "metadata": {},
   "outputs": [
    {
     "data": {
      "text/plain": [
       "Pipeline(steps=[('scaler', StandardScaler()),\n",
       "                ('logreg', LogisticRegression(C=10, random_state=42))])"
      ]
     },
     "execution_count": 17,
     "metadata": {},
     "output_type": "execute_result"
    }
   ],
   "source": [
    "final_model = log_gs.best_estimator_\n",
    "final_model"
   ]
  },
  {
   "cell_type": "code",
   "execution_count": 18,
   "metadata": {
    "scrolled": true
   },
   "outputs": [
    {
     "data": {
      "text/plain": [
       "0.9906103286384976"
      ]
     },
     "execution_count": 18,
     "metadata": {},
     "output_type": "execute_result"
    }
   ],
   "source": [
    "final_model.score(X_train, y_train)"
   ]
  },
  {
   "cell_type": "code",
   "execution_count": 19,
   "metadata": {},
   "outputs": [
    {
     "data": {
      "text/plain": [
       "0.972027972027972"
      ]
     },
     "execution_count": 19,
     "metadata": {},
     "output_type": "execute_result"
    }
   ],
   "source": [
    "final_model.score(X_test, y_test)"
   ]
  },
  {
   "cell_type": "markdown",
   "metadata": {},
   "source": [
    "# 2) Ensemble Methods"
   ]
  },
  {
   "cell_type": "markdown",
   "metadata": {},
   "source": [
    "### What sorts of ensembling methods have we looked at?"
   ]
  },
  {
   "cell_type": "code",
   "execution_count": null,
   "metadata": {},
   "outputs": [],
   "source": [
    "# call_on_students(1)"
   ]
  },
  {
   "cell_type": "markdown",
   "metadata": {},
   "source": [
    "- bagging (bootstrap aggregation)\n",
    "- randomforest\n",
    "- voting\n",
    "- stacking\n",
    "- extratrees\n",
    "- adaboost\n",
    "- gradientboost\n",
    "    - xgboost"
   ]
  },
  {
   "cell_type": "markdown",
   "metadata": {},
   "source": [
    "### What is random about a random forest?"
   ]
  },
  {
   "cell_type": "code",
   "execution_count": null,
   "metadata": {},
   "outputs": [],
   "source": [
    "# call_on_students(1)"
   ]
  },
  {
   "cell_type": "markdown",
   "metadata": {},
   "source": [
    "- Random sampling with replacement (bootstrap)\n",
    "- Random subset of features for each decision node --> still find best split from the random subset\n",
    "\n",
    "- Extra Trees - 3rd level of randomness\n",
    "    - from the subset of random features, a random value is chosen for each feature and then we choose best split based on criterion"
   ]
  },
  {
   "cell_type": "markdown",
   "metadata": {},
   "source": [
    "### What hyperparameters of a random forest might it be useful to tune? How so?"
   ]
  },
  {
   "cell_type": "code",
   "execution_count": null,
   "metadata": {},
   "outputs": [],
   "source": [
    "# call_on_students(1)"
   ]
  },
  {
   "cell_type": "markdown",
   "metadata": {},
   "source": [
    "- n_estimators : number of trees in the forest\n",
    "- max_features: controls the feature subsetting\n",
    "- max_samples: controls the random sampling (bootstrapping)\n",
    "- hyperparameters carried over from base decision trees\n",
    "    - max_depth: stops model from growing/splitting at specific depth\n",
    "    - min_samples_leaf: minimum samples required for a leaf node\n",
    "    - min_samples_split: minimum samples required for a node to be able to split\n",
    "    - criterion: what to choose best split based on"
   ]
  },
  {
   "cell_type": "markdown",
   "metadata": {},
   "source": [
    "### Build a random forest model on the breast cancer dataset that predicts whether the tumor is malignant (target = 1)."
   ]
  },
  {
   "cell_type": "code",
   "execution_count": null,
   "metadata": {},
   "outputs": [],
   "source": [
    "# call_on_students(1)"
   ]
  },
  {
   "cell_type": "markdown",
   "metadata": {},
   "source": [
    "**Answer**:"
   ]
  },
  {
   "cell_type": "code",
   "execution_count": 33,
   "metadata": {},
   "outputs": [
    {
     "data": {
      "text/plain": [
       "0.9976525821596244"
      ]
     },
     "execution_count": 33,
     "metadata": {},
     "output_type": "execute_result"
    }
   ],
   "source": [
    "# Your code here\n",
    "rf = RandomForestClassifier(random_state=42, max_depth=7)\n",
    "rf.fit(X_train, y_train)\n",
    "rf.score(X_train, y_train)"
   ]
  },
  {
   "cell_type": "code",
   "execution_count": 34,
   "metadata": {},
   "outputs": [],
   "source": [
    "from sklearn.model_selection import cross_val_score"
   ]
  },
  {
   "cell_type": "code",
   "execution_count": 35,
   "metadata": {},
   "outputs": [
    {
     "data": {
      "text/plain": [
       "0.9600820793433652"
      ]
     },
     "execution_count": 35,
     "metadata": {},
     "output_type": "execute_result"
    }
   ],
   "source": [
    "cross_val_score(rf, X_train, y_train).mean()"
   ]
  },
  {
   "cell_type": "code",
   "execution_count": 36,
   "metadata": {},
   "outputs": [
    {
     "data": {
      "text/plain": [
       "0.965034965034965"
      ]
     },
     "execution_count": 36,
     "metadata": {},
     "output_type": "execute_result"
    }
   ],
   "source": [
    "rf.score(X_test, y_test)"
   ]
  },
  {
   "cell_type": "markdown",
   "metadata": {
    "index": 23
   },
   "source": [
    "# 3) Natural Language Processing"
   ]
  },
  {
   "cell_type": "markdown",
   "metadata": {},
   "source": [
    "## NLP Concepts\n",
    "\n",
    "### Some Example Text"
   ]
  },
  {
   "cell_type": "code",
   "execution_count": 37,
   "metadata": {
    "index": 24
   },
   "outputs": [],
   "source": [
    "# Each sentence is a document\n",
    "sentence_one = \"Harry Potter is the best young adult book about wizards\"\n",
    "sentence_two = \"Um, EXCUSE ME! Ever heard of Earth Sea?\"\n",
    "sentence_three = \"I only like to read non-fiction.  It makes me a better person.\"\n",
    "\n",
    "# The corpus is composed of all of the documents\n",
    "corpus = [sentence_one, sentence_two, sentence_three]"
   ]
  },
  {
   "cell_type": "code",
   "execution_count": 39,
   "metadata": {},
   "outputs": [
    {
     "data": {
      "text/plain": [
       "['Harry Potter is the best young adult book about wizards',\n",
       " 'Um, EXCUSE ME! Ever heard of Earth Sea?',\n",
       " 'I only like to read non-fiction.  It makes me a better person.']"
      ]
     },
     "execution_count": 39,
     "metadata": {},
     "output_type": "execute_result"
    }
   ],
   "source": [
    "corpus"
   ]
  },
  {
   "cell_type": "markdown",
   "metadata": {},
   "source": [
    "### NLP Pre-processing\n",
    "\n",
    "List at least three steps you can take to turn raw text like this into something that would be semantically valuable (aka ready to turn into numbers):"
   ]
  },
  {
   "cell_type": "code",
   "execution_count": null,
   "metadata": {},
   "outputs": [],
   "source": [
    "# call_on_students(1)"
   ]
  },
  {
   "cell_type": "markdown",
   "metadata": {},
   "source": [
    "- standarize\n",
    "    - lowercase\n",
    "    - remove punctuation\n",
    "- remove stopwords that don't have semantic meaning\n",
    "- normalize (helps deal with different tenses, purals etc....)\n",
    "    - lemmatization (uses POS tagging)\n",
    "    - stemming (root)\n",
    "- keep or remove numbers\n",
    "- need to tokenize (create seperate tokens for each word or sequence of words)\n",
    "    - n-grams"
   ]
  },
  {
   "cell_type": "markdown",
   "metadata": {},
   "source": [
    "### Describe what vectorized text would look like as a dataframe.\n",
    "\n",
    "If you vectorize the above corpus, what would the rows and columns be in the resulting dataframe (aka document term matrix)"
   ]
  },
  {
   "cell_type": "code",
   "execution_count": null,
   "metadata": {},
   "outputs": [],
   "source": [
    "# call_on_students(1)"
   ]
  },
  {
   "cell_type": "markdown",
   "metadata": {},
   "source": [
    "- matrix/dataframe\n",
    "- each row is a single document from our corpus\n",
    "- columns (features) are the unique tokens (n-grams)\n",
    "- values depend on the kind of vectorization (count, tf-idf, hashing)\n",
    "- generally returned as a sparse matrix (to save on memory)\n",
    "    - lots of 0, lots of tokens that don't show up in some documents"
   ]
  },
  {
   "cell_type": "markdown",
   "metadata": {},
   "source": [
    "### What does TF-IDF do?\n",
    "\n",
    "Also, what does TF-IDF stand for?"
   ]
  },
  {
   "cell_type": "code",
   "execution_count": null,
   "metadata": {},
   "outputs": [],
   "source": [
    "# call_on_students(1)"
   ]
  },
  {
   "cell_type": "markdown",
   "metadata": {},
   "source": [
    "- weights tokens by the specific importance to the document in question in contrast to the full corpus (importance score)\n",
    "- tf: term frequency : how frequent is token in the document\n",
    "- idf: inverse document frequency : how much the token shows up in full corpus compared to the document\n",
    "- high score = more importance for that specfic document\n",
    "- low score = less importance"
   ]
  },
  {
   "cell_type": "markdown",
   "metadata": {
    "index": 33
   },
   "source": [
    "## NLP in Code\n",
    "\n",
    "### Set Up"
   ]
  },
  {
   "cell_type": "code",
   "execution_count": 40,
   "metadata": {
    "index": 34
   },
   "outputs": [],
   "source": [
    "# New section, new data\n",
    "policies = pd.read_csv('data/2020_policies_feb_24.csv')\n",
    "\n",
    "def warren_not_warren(label):\n",
    "    \n",
    "    '''Make label a binary between Elizabeth Warren\n",
    "    speeches and speeches from all other candidates'''\n",
    "    \n",
    "    if label =='warren':\n",
    "        return 1\n",
    "    else:\n",
    "        return 0\n",
    "    \n",
    "policies['candidate'] = policies['candidate'].apply(warren_not_warren)"
   ]
  },
  {
   "cell_type": "markdown",
   "metadata": {
    "index": 35
   },
   "source": [
    "The dataframe loaded above consists of policies of 2020 Democratic presidential hopefuls. The `policy` column holds text describing the policies themselves.  The `candidate` column indicates whether it was or was not an Elizabeth Warren policy."
   ]
  },
  {
   "cell_type": "code",
   "execution_count": 41,
   "metadata": {
    "index": 36
   },
   "outputs": [
    {
     "data": {
      "text/html": [
       "<div>\n",
       "<style scoped>\n",
       "    .dataframe tbody tr th:only-of-type {\n",
       "        vertical-align: middle;\n",
       "    }\n",
       "\n",
       "    .dataframe tbody tr th {\n",
       "        vertical-align: top;\n",
       "    }\n",
       "\n",
       "    .dataframe thead th {\n",
       "        text-align: right;\n",
       "    }\n",
       "</style>\n",
       "<table border=\"1\" class=\"dataframe\">\n",
       "  <thead>\n",
       "    <tr style=\"text-align: right;\">\n",
       "      <th></th>\n",
       "      <th>Unnamed: 0</th>\n",
       "      <th>name</th>\n",
       "      <th>policy</th>\n",
       "      <th>candidate</th>\n",
       "    </tr>\n",
       "  </thead>\n",
       "  <tbody>\n",
       "    <tr>\n",
       "      <th>0</th>\n",
       "      <td>0</td>\n",
       "      <td>100% Clean Energy for America</td>\n",
       "      <td>As published on Medium on September 3rd, 2019:...</td>\n",
       "      <td>1</td>\n",
       "    </tr>\n",
       "    <tr>\n",
       "      <th>1</th>\n",
       "      <td>1</td>\n",
       "      <td>A Comprehensive Agenda to Boost America’s Smal...</td>\n",
       "      <td>Small businesses are the heart of our economy....</td>\n",
       "      <td>1</td>\n",
       "    </tr>\n",
       "    <tr>\n",
       "      <th>2</th>\n",
       "      <td>2</td>\n",
       "      <td>A Fair and Welcoming Immigration System</td>\n",
       "      <td>As published on Medium on July 11th, 2019:\\nIm...</td>\n",
       "      <td>1</td>\n",
       "    </tr>\n",
       "    <tr>\n",
       "      <th>3</th>\n",
       "      <td>3</td>\n",
       "      <td>A Fair Workweek for America’s Part-Time Workers</td>\n",
       "      <td>Working families all across the country are ge...</td>\n",
       "      <td>1</td>\n",
       "    </tr>\n",
       "    <tr>\n",
       "      <th>4</th>\n",
       "      <td>4</td>\n",
       "      <td>A Great Public School Education for Every Student</td>\n",
       "      <td>I attended public school growing up in Oklahom...</td>\n",
       "      <td>1</td>\n",
       "    </tr>\n",
       "  </tbody>\n",
       "</table>\n",
       "</div>"
      ],
      "text/plain": [
       "   Unnamed: 0                                               name  \\\n",
       "0           0                      100% Clean Energy for America   \n",
       "1           1  A Comprehensive Agenda to Boost America’s Smal...   \n",
       "2           2            A Fair and Welcoming Immigration System   \n",
       "3           3    A Fair Workweek for America’s Part-Time Workers   \n",
       "4           4  A Great Public School Education for Every Student   \n",
       "\n",
       "                                              policy  candidate  \n",
       "0  As published on Medium on September 3rd, 2019:...          1  \n",
       "1  Small businesses are the heart of our economy....          1  \n",
       "2  As published on Medium on July 11th, 2019:\\nIm...          1  \n",
       "3  Working families all across the country are ge...          1  \n",
       "4  I attended public school growing up in Oklahom...          1  "
      ]
     },
     "execution_count": 41,
     "metadata": {},
     "output_type": "execute_result"
    }
   ],
   "source": [
    "policies.head()"
   ]
  },
  {
   "cell_type": "markdown",
   "metadata": {
    "index": 37
   },
   "source": [
    "The documents for activity are in the `policy` column, and the target is candidate. "
   ]
  },
  {
   "cell_type": "markdown",
   "metadata": {},
   "source": [
    "### Import the Relevant Class, Then Instantiate and Fit a Count Vectorizer Object"
   ]
  },
  {
   "cell_type": "code",
   "execution_count": null,
   "metadata": {},
   "outputs": [],
   "source": [
    "# call_on_students(1)"
   ]
  },
  {
   "cell_type": "code",
   "execution_count": 42,
   "metadata": {},
   "outputs": [],
   "source": [
    "# First! Train-test split the dataset\n",
    "X = policies['policy']\n",
    "y = policies['candidate']\n",
    "\n",
    "X_train, X_test, y_train, y_test = train_test_split(X, y, random_state=42)"
   ]
  },
  {
   "cell_type": "code",
   "execution_count": 43,
   "metadata": {},
   "outputs": [],
   "source": [
    "# Import the relevant vectorizer\n",
    "from sklearn.feature_extraction.text import CountVectorizer"
   ]
  },
  {
   "cell_type": "code",
   "execution_count": 79,
   "metadata": {},
   "outputs": [],
   "source": [
    "# Instantiate it\n",
    "cv = CountVectorizer(stop_words='english', strip_accents='unicode')"
   ]
  },
  {
   "cell_type": "code",
   "execution_count": 80,
   "metadata": {},
   "outputs": [
    {
     "data": {
      "text/plain": [
       "CountVectorizer(stop_words='english', strip_accents='unicode')"
      ]
     },
     "execution_count": 80,
     "metadata": {},
     "output_type": "execute_result"
    }
   ],
   "source": [
    "# Fit it\n",
    "cv.fit(X_train)"
   ]
  },
  {
   "cell_type": "code",
   "execution_count": 81,
   "metadata": {},
   "outputs": [
    {
     "data": {
      "text/plain": [
       "{'1987': 108,\n",
       " 'united': 9977,\n",
       " 'church': 1844,\n",
       " 'christ': 1837,\n",
       " 'commission': 2030,\n",
       " 'racial': 7560,\n",
       " 'justice': 5356,\n",
       " 'commissioned': 2031,\n",
       " 'studies': 9210,\n",
       " 'hazardous': 4543,\n",
       " 'waste': 10322,\n",
       " 'communities': 2052,\n",
       " 'color': 1996,\n",
       " 'years': 10554,\n",
       " 'later': 5477,\n",
       " '28': 187,\n",
       " 'ago': 649,\n",
       " 'month': 6170,\n",
       " 'delegates': 2732,\n",
       " 'national': 6270,\n",
       " 'people': 6889,\n",
       " 'environmental': 3539,\n",
       " 'leadership': 5513,\n",
       " 'summit': 9301,\n",
       " 'adopted': 556,\n",
       " '17': 61,\n",
       " 'principles': 7289,\n",
       " 'federal': 3919,\n",
       " 'government': 4348,\n",
       " 'largely': 5471,\n",
       " 'failed': 3846,\n",
       " 'live': 5660,\n",
       " 'vision': 10227,\n",
       " 'trailblazing': 9712,\n",
       " 'leaders': 5512,\n",
       " 'outlined': 6632,\n",
       " 'responsibilities': 8095,\n",
       " 'represent': 8010,\n",
       " 'predominantly': 7202,\n",
       " 'black': 1313,\n",
       " 'neighborhoods': 6332,\n",
       " 'detroit': 2889,\n",
       " 'navajo': 6287,\n",
       " 'southwest': 8900,\n",
       " 'louisiana': 5735,\n",
       " 'cancer': 1595,\n",
       " 'alley': 716,\n",
       " 'industrial': 4963,\n",
       " 'pollution': 7108,\n",
       " 'concentrated': 2127,\n",
       " 'low': 5739,\n",
       " 'income': 4908,\n",
       " 'decades': 2625,\n",
       " 'tacitly': 9420,\n",
       " 'written': 10528,\n",
       " 'called': 1572,\n",
       " 'sacrifice': 8335,\n",
       " 'zones': 10580,\n",
       " 'just': 5355,\n",
       " 'poverty': 7167,\n",
       " 'race': 7557,\n",
       " 'seminal': 8523,\n",
       " 'study': 9211,\n",
       " 'families': 3866,\n",
       " 'likely': 5623,\n",
       " 'higher': 4613,\n",
       " 'concentrations': 2129,\n",
       " 'air': 674,\n",
       " 'white': 10409,\n",
       " 'recent': 7685,\n",
       " 'whites': 10411,\n",
       " 'cause': 1683,\n",
       " 'blacks': 1316,\n",
       " 'latinxs': 5484,\n",
       " 'breathe': 1438,\n",
       " 'unsurprisingly': 10036,\n",
       " 'groups': 4421,\n",
       " 'experience': 3741,\n",
       " 'rates': 7618,\n",
       " 'childhood': 1819,\n",
       " 'asthma': 997,\n",
       " 'minority': 6069,\n",
       " 'exposed': 3782,\n",
       " 'toxins': 9684,\n",
       " 'water': 10333,\n",
       " 'including': 4902,\n",
       " 'lead': 5510,\n",
       " 'chemicals': 1803,\n",
       " 'agricultural': 659,\n",
       " 'run': 8319,\n",
       " 'racism': 7563,\n",
       " 'sources': 8895,\n",
       " 'michigan': 6011,\n",
       " 'radio': 7569,\n",
       " 'mi': 6007,\n",
       " 'data': 2580,\n",
       " 'california': 1571,\n",
       " 'department': 2788,\n",
       " 'public': 7477,\n",
       " 'health': 4555,\n",
       " 'los': 5725,\n",
       " 'angeles': 785,\n",
       " 'county': 2402,\n",
       " 'ca': 1558,\n",
       " 'coral': 2340,\n",
       " 'davenport': 2588,\n",
       " 'campbell': 1582,\n",
       " 'robertson': 8258,\n",
       " 'resettling': 8048,\n",
       " 'american': 760,\n",
       " 'climate': 1910,\n",
       " 'refugees': 7790,\n",
       " 'new': 6349,\n",
       " 'york': 10562,\n",
       " 'times': 9622,\n",
       " '2016': 138,\n",
       " 'isle': 5257,\n",
       " 'jean': 5290,\n",
       " 'charles': 1776,\n",
       " 'la': 5430,\n",
       " 'view': 10193,\n",
       " 'screen': 8444,\n",
       " 'don': 3162,\n",
       " 'tell': 9507,\n",
       " 'story': 9140,\n",
       " 've': 10152,\n",
       " 'traveled': 9765,\n",
       " 'country': 2400,\n",
       " 'heard': 4560,\n",
       " 'human': 4726,\n",
       " 'stories': 9135,\n",
       " 'met': 5993,\n",
       " 'community': 2053,\n",
       " 'members': 5968,\n",
       " 'diagnosed': 2911,\n",
       " 'linked': 5639,\n",
       " 'exposure': 3783,\n",
       " 'living': 5667,\n",
       " 'shadow': 8598,\n",
       " 'massive': 5887,\n",
       " 'oil': 6523,\n",
       " 'refinery': 7772,\n",
       " 'hampshire': 4471,\n",
       " 'talked': 9441,\n",
       " 'mothers': 6193,\n",
       " 'fighting': 3964,\n",
       " 'clean': 1894,\n",
       " 'drinking': 3222,\n",
       " 'free': 4157,\n",
       " 'harmful': 4512,\n",
       " 'pfas': 6954,\n",
       " 'children': 1821,\n",
       " 'south': 8897,\n",
       " 'carolina': 1645,\n",
       " 'vulnerable': 10259,\n",
       " 'coastal': 1941,\n",
       " 'face': 3821,\n",
       " 'greatest': 4392,\n",
       " 'threats': 9589,\n",
       " 'sea': 8451,\n",
       " 'level': 5571,\n",
       " 'rise': 8238,\n",
       " 'century': 1721,\n",
       " 'encroaching': 3443,\n",
       " 'polluters': 7106,\n",
       " 'west': 10393,\n",
       " 'virginia': 10216,\n",
       " 'saw': 8389,\n",
       " 'consequences': 2200,\n",
       " 'coal': 1937,\n",
       " 'industry': 4966,\n",
       " 'abandonment': 376,\n",
       " 'shareholders': 8620,\n",
       " 'executives': 3695,\n",
       " 'wealthy': 10354,\n",
       " 'stolen': 9124,\n",
       " 'pensions': 6887,\n",
       " 'poisoned': 7081,\n",
       " 'miners': 6056,\n",
       " 'ruined': 8310,\n",
       " 'land': 5452,\n",
       " 'didn': 2924,\n",
       " 'accident': 438,\n",
       " 'crisis': 2471,\n",
       " 'injustice': 5040,\n",
       " 'result': 8124,\n",
       " 'discrimination': 3019,\n",
       " 'compounding': 2110,\n",
       " 'overlooked': 6668,\n",
       " 'long': 5705,\n",
       " 'multiple': 6226,\n",
       " 'choices': 1830,\n",
       " 'corporate': 2350,\n",
       " 'profits': 7367,\n",
       " 'looked': 5712,\n",
       " 'way': 10341,\n",
       " 'unacceptable': 9864,\n",
       " 'change': 1756,\n",
       " 'secondary': 8471,\n",
       " 'concern': 2131,\n",
       " 'center': 1712,\n",
       " 'response': 8093,\n",
       " 'green': 4396,\n",
       " 'deal': 2603,\n",
       " 'commits': 2038,\n",
       " 'transition': 9738,\n",
       " 'workers': 10487,\n",
       " 'won': 10478,\n",
       " 'create': 2438,\n",
       " 'true': 9818,\n",
       " 'cleaning': 1896,\n",
       " 'polluted': 7104,\n",
       " 'tweaking': 9847,\n",
       " 'regulations': 7827,\n",
       " 'epa': 3548,\n",
       " 'need': 6307,\n",
       " 'prioritize': 7294,\n",
       " 'experienced': 3742,\n",
       " 'historic': 4636,\n",
       " 'disinvestment': 3045,\n",
       " 'range': 7605,\n",
       " 'needs': 6313,\n",
       " 'affordable': 617,\n",
       " 'housing': 4716,\n",
       " 'better': 1261,\n",
       " 'infrastructure': 5014,\n",
       " 'good': 4334,\n",
       " 'schools': 8424,\n",
       " 'access': 434,\n",
       " 'care': 1630,\n",
       " 'jobs': 5309,\n",
       " 'strong': 9190,\n",
       " 'resilient': 8066,\n",
       " 'prepared': 7225,\n",
       " 'properly': 7410,\n",
       " 'resourced': 8077,\n",
       " 'withstand': 10469,\n",
       " 'impacts': 4818,\n",
       " 'big': 1273,\n",
       " 'focused': 4064,\n",
       " 'led': 5535,\n",
       " 'add': 514,\n",
       " 'support': 9326,\n",
       " 'plan': 7026,\n",
       " 'fight': 3963,\n",
       " 'beginning': 1209,\n",
       " 'email': 3381,\n",
       " 'zip': 10578,\n",
       " 'submit': 9230,\n",
       " 'left': 5536,\n",
       " 'borne': 1386,\n",
       " 'brunt': 1477,\n",
       " 'lines': 5633,\n",
       " 'getting': 4289,\n",
       " 'hit': 4641,\n",
       " 'worst': 10511,\n",
       " 'local': 5680,\n",
       " 'leading': 5514,\n",
       " 'hold': 4649,\n",
       " 'responsible': 8097,\n",
       " 'combat': 2000,\n",
       " 'effects': 3325,\n",
       " '48217': 258,\n",
       " 'code': 1948,\n",
       " 'example': 3659,\n",
       " 'midst': 6022,\n",
       " 'told': 9642,\n",
       " 'banded': 1134,\n",
       " 'identify': 4767,\n",
       " 'leakages': 5517,\n",
       " 'inform': 5006,\n",
       " 'neighbors': 6334,\n",
       " 'alabama': 684,\n",
       " 'mississippi': 6103,\n",
       " 'residents': 8058,\n",
       " 'redlined': 7744,\n",
       " 'spoke': 8963,\n",
       " 'caused': 1684,\n",
       " 'inadequate': 4874,\n",
       " 'municipal': 6230,\n",
       " 'sewage': 8591,\n",
       " 'systems': 9415,\n",
       " 'tribal': 9788,\n",
       " 'nations': 6278,\n",
       " 'disproportionately': 3074,\n",
       " 'impacted': 4815,\n",
       " 'resilience': 8064,\n",
       " 'adaptation': 512,\n",
       " 'strategies': 9151,\n",
       " 'supporting': 9329,\n",
       " 'healthy': 4558,\n",
       " 'ecosystems': 3306,\n",
       " 'uplift': 10063,\n",
       " 'efforts': 3330,\n",
       " 'improve': 4862,\n",
       " 'equity': 3571,\n",
       " 'mapping': 5842,\n",
       " 'currently': 2530,\n",
       " 'maps': 5843,\n",
       " 'based': 1170,\n",
       " 'basic': 1175,\n",
       " 'demographic': 2758,\n",
       " 'indicators': 4950,\n",
       " 'risk': 8242,\n",
       " 'rigorous': 8228,\n",
       " 'interagency': 5152,\n",
       " 'effort': 3329,\n",
       " 'cumulative': 2522,\n",
       " 'disparities': 3059,\n",
       " 'vulnerabilities': 10257,\n",
       " 'cross': 2486,\n",
       " 'reference': 7763,\n",
       " 'socioeconomic': 8852,\n",
       " 'll': 5668,\n",
       " 'use': 10087,\n",
       " 'adjust': 535,\n",
       " 'permitting': 6917,\n",
       " 'rules': 8316,\n",
       " 'act': 489,\n",
       " 'authorities': 1048,\n",
       " 'consider': 2207,\n",
       " 'impact': 4814,\n",
       " 'overlapping': 6667,\n",
       " 'make': 5798,\n",
       " 'publicly': 7481,\n",
       " 'available': 1071,\n",
       " 'online': 6540,\n",
       " 'help': 4588,\n",
       " 'measure': 5935,\n",
       " 'implement': 4832,\n",
       " 'investments': 5217,\n",
       " 'identifying': 4768,\n",
       " 'step': 9091,\n",
       " 'involve': 5228,\n",
       " 'deploying': 2802,\n",
       " 'trillions': 9803,\n",
       " 'dollars': 3155,\n",
       " 'transform': 9730,\n",
       " 'source': 8894,\n",
       " 'energy': 3464,\n",
       " 'doing': 3149,\n",
       " 'resources': 8079,\n",
       " 'remediate': 7925,\n",
       " 'injustices': 5041,\n",
       " 'friend': 4171,\n",
       " 'governor': 4351,\n",
       " 'jay': 5288,\n",
       " 'inslee': 5067,\n",
       " 'rightly': 8226,\n",
       " 'challenged': 1745,\n",
       " 'fund': 4203,\n",
       " 'passed': 6806,\n",
       " 'laws': 5498,\n",
       " 'direct': 2962,\n",
       " 'funding': 4208,\n",
       " 'specifically': 8928,\n",
       " 'frontline': 4177,\n",
       " 'fenceline': 3944,\n",
       " 'proposed': 7420,\n",
       " 'investment': 5216,\n",
       " 'commitment': 2036,\n",
       " 'funnel': 4214,\n",
       " 'trillion': 9802,\n",
       " 'areas': 901,\n",
       " 'decade': 2624,\n",
       " 'strengthen': 9165,\n",
       " 'tools': 9657,\n",
       " 'mitigate': 6113,\n",
       " 'harms': 4515,\n",
       " 'signed': 8714,\n",
       " 'law': 5494,\n",
       " '1970': 98,\n",
       " 'policy': 7089,\n",
       " 'provides': 7460,\n",
       " 'original': 6607,\n",
       " 'authority': 1049,\n",
       " 'existing': 3712,\n",
       " 'protections': 7442,\n",
       " 'clear': 1899,\n",
       " 'eliminate': 3374,\n",
       " 'dependence': 2794,\n",
       " 'fossil': 4125,\n",
       " 'fuels': 4190,\n",
       " 'trump': 9820,\n",
       " 'administration': 544,\n",
       " 'tried': 9797,\n",
       " 'weaken': 10345,\n",
       " 'nepa': 6336,\n",
       " 'goal': 4323,\n",
       " 'expediting': 3733,\n",
       " 'fuel': 4187,\n",
       " 'projects': 7385,\n",
       " 'time': 9620,\n",
       " 'moved': 6208,\n",
       " 'devalue': 2890,\n",
       " 'consideration': 2208,\n",
       " 'decisions': 2645,\n",
       " 'entirely': 3524,\n",
       " 'emergency': 3400,\n",
       " 'world': 10498,\n",
       " 'facing': 3833,\n",
       " 'president': 7246,\n",
       " 'mandate': 5822,\n",
       " 'agencies': 636,\n",
       " 'rulemaking': 8314,\n",
       " 'processes': 7332,\n",
       " 'action': 493,\n",
       " 'mainstreamed': 5789,\n",
       " 'does': 3147,\n",
       " 'standard': 9034,\n",
       " 'requires': 8032,\n",
       " 'merely': 5981,\n",
       " 'assess': 965,\n",
       " 'negative': 6315,\n",
       " 'warren': 10316,\n",
       " 'greater': 4391,\n",
       " 'say': 8390,\n",
       " 'sited': 8747,\n",
       " 'today': 9637,\n",
       " 'desires': 2852,\n",
       " 'discounted': 3007,\n",
       " 'disregarded': 3080,\n",
       " 'involved': 5229,\n",
       " 'proceed': 7326,\n",
       " 'unless': 9992,\n",
       " 'developers': 2898,\n",
       " 'obtained': 6470,\n",
       " 'prior': 7292,\n",
       " 'informed': 5011,\n",
       " 'consent': 2198,\n",
       " 'governments': 4350,\n",
       " 'concerned': 2132,\n",
       " 'extent': 3800,\n",
       " 'executive': 3694,\n",
       " 'protect': 7438,\n",
       " 'voice': 10238,\n",
       " 'process': 7330,\n",
       " 'reflect': 7774,\n",
       " 'realities': 7652,\n",
       " 'build': 1496,\n",
       " 'wealth': 10351,\n",
       " 'risks': 8246,\n",
       " 'subject': 9225,\n",
       " 'hazards': 4544,\n",
       " 'like': 5620,\n",
       " 'coincidence': 1966,\n",
       " 'racist': 7564,\n",
       " 'officially': 6512,\n",
       " 'sanctioned': 8365,\n",
       " 'segregation': 8505,\n",
       " 'denied': 2775,\n",
       " 'opportunity': 6568,\n",
       " 'choose': 1832,\n",
       " 'best': 1255,\n",
       " 'neighborhood': 6331,\n",
       " 'targeted': 9456,\n",
       " 'mortgages': 6189,\n",
       " 'financial': 3987,\n",
       " 'includes': 4901,\n",
       " 'kind': 5395,\n",
       " 'payment': 6849,\n",
       " 'assistance': 977,\n",
       " 'program': 7368,\n",
       " 'grants': 4380,\n",
       " 'term': 9526,\n",
       " 'buy': 1548,\n",
       " 'homes': 4673,\n",
       " 'choice': 1829,\n",
       " 'start': 9044,\n",
       " 'reverse': 8169,\n",
       " 'damage': 2563,\n",
       " 'homeowners': 4671,\n",
       " 'owe': 6700,\n",
       " 'worth': 10512,\n",
       " 'used': 10088,\n",
       " 'preserve': 7241,\n",
       " 'revitalize': 8182,\n",
       " 'economic': 3298,\n",
       " 'opportunities': 6567,\n",
       " 'created': 2439,\n",
       " 'sector': 8479,\n",
       " 'right': 8223,\n",
       " 'planning': 7032,\n",
       " 'lift': 5612,\n",
       " 'repression': 8018,\n",
       " 'putting': 7525,\n",
       " 'path': 6818,\n",
       " 'future': 4222,\n",
       " 'expand': 3718,\n",
       " 'suffer': 9275,\n",
       " 'certain': 1726,\n",
       " 'cancers': 1596,\n",
       " 'illnesses': 4793,\n",
       " 'associated': 985,\n",
       " 'matters': 5903,\n",
       " 'worse': 10504,\n",
       " 'quality': 7534,\n",
       " 'medicare': 5951,\n",
       " 'high': 4612,\n",
       " 'lower': 5740,\n",
       " 'cost': 2372,\n",
       " 'allowing': 732,\n",
       " 'disadvantaged': 2978,\n",
       " 'lifesaving': 5606,\n",
       " 'services': 8569,\n",
       " 'providing': 7461,\n",
       " 'coverage': 2418,\n",
       " 'simplified': 8731,\n",
       " 'easier': 3285,\n",
       " 'quickly': 7545,\n",
       " 'tailor': 9430,\n",
       " 'responses': 8094,\n",
       " 'specific': 8927,\n",
       " 'disasters': 2989,\n",
       " 'affected': 601,\n",
       " 'occur': 6480,\n",
       " 'research': 8037,\n",
       " 'invested': 5207,\n",
       " 'broad': 1458,\n",
       " 'intended': 5134,\n",
       " 'boats': 1346,\n",
       " 'leave': 5531,\n",
       " 'calls': 1575,\n",
       " 'size': 8756,\n",
       " 'fits': 4020,\n",
       " 'solutions': 8872,\n",
       " 'instead': 5089,\n",
       " 'account': 452,\n",
       " 'unique': 9974,\n",
       " 'challenges': 1746,\n",
       " 'individual': 4957,\n",
       " '400': 235,\n",
       " 'billion': 1284,\n",
       " 'development': 2900,\n",
       " 'place': 7012,\n",
       " 'interventions': 5190,\n",
       " 'targeting': 9457,\n",
       " 'population': 7120,\n",
       " '2003': 125,\n",
       " '2015': 137,\n",
       " 'christopher': 1839,\n",
       " 'tessum': 9544,\n",
       " 'et': 3609,\n",
       " 'al': 683,\n",
       " 'inequity': 4974,\n",
       " 'consumption': 2245,\n",
       " 'goods': 4335,\n",
       " 'adds': 527,\n",
       " 'ethnic': 3613,\n",
       " 'proceedings': 7328,\n",
       " 'academy': 423,\n",
       " 'sciences': 8426,\n",
       " 'march': 5845,\n",
       " '2019': 141,\n",
       " 'worker': 10486,\n",
       " 'untouched': 10041,\n",
       " 'represents': 8016,\n",
       " 'generation': 4266,\n",
       " 'millions': 6049,\n",
       " 'paying': 6848,\n",
       " 'renewable': 7950,\n",
       " 'manufacturing': 5840,\n",
       " 'unleash': 9989,\n",
       " 'innovation': 5046,\n",
       " 'creativity': 2444,\n",
       " 'rebuild': 7676,\n",
       " 'unions': 9973,\n",
       " 'real': 7648,\n",
       " 'progress': 7373,\n",
       " 'directly': 2968,\n",
       " 'confront': 2167,\n",
       " 'inequality': 4971,\n",
       " 'embedded': 3389,\n",
       " 'economy': 3304,\n",
       " 'task': 9461,\n",
       " 'huge': 4724,\n",
       " 'demands': 2749,\n",
       " 'require': 8028,\n",
       " 'retrofits': 8153,\n",
       " 'nation': 6269,\n",
       " 'base': 1169,\n",
       " 'readjusting': 7645,\n",
       " 'approach': 871,\n",
       " 'ensure': 3509,\n",
       " 'systematically': 9413,\n",
       " 'harmed': 4511,\n",
       " 'know': 5417,\n",
       " 'things': 9569,\n",
       " 'manufacture': 5836,\n",
       " 'skilled': 8763,\n",
       " 'contractors': 2279,\n",
       " 'execute': 3692,\n",
       " 'large': 5470,\n",
       " 'construction': 2233,\n",
       " 'engineering': 3481,\n",
       " 'training': 9717,\n",
       " 'joint': 5320,\n",
       " 'labor': 5436,\n",
       " 'management': 5815,\n",
       " 'apprenticeships': 870,\n",
       " 'continuous': 2271,\n",
       " 'supply': 9325,\n",
       " 'great': 4390,\n",
       " 'moment': 6150,\n",
       " 'unity': 9980,\n",
       " 'common': 2045,\n",
       " 'purpose': 7509,\n",
       " 'lives': 5664,\n",
       " 'transformed': 9734,\n",
       " 'succeed': 9261,\n",
       " 'skills': 8764,\n",
       " 'job': 5307,\n",
       " 'room': 8284,\n",
       " 'partners': 6797,\n",
       " 'wage': 10266,\n",
       " 'forced': 4081,\n",
       " 'impossible': 4853,\n",
       " 'superior': 9310,\n",
       " 'wages': 10268,\n",
       " 'benefits': 1248,\n",
       " 'pay': 6841,\n",
       " 'far': 3873,\n",
       " 'tension': 9520,\n",
       " 'transitioning': 9741,\n",
       " 'creating': 2441,\n",
       " 'middle': 6019,\n",
       " 'class': 1882,\n",
       " 'union': 9968,\n",
       " 'coupled': 2404,\n",
       " 'strongest': 9192,\n",
       " 'possible': 7146,\n",
       " 'instance': 5087,\n",
       " 'makes': 5800,\n",
       " 'procurement': 7337,\n",
       " 'domestic': 3158,\n",
       " 'contingent': 2264,\n",
       " 'companies': 2060,\n",
       " 'fair': 3852,\n",
       " 'paid': 6729,\n",
       " 'family': 3867,\n",
       " 'medical': 5949,\n",
       " 'scheduling': 8418,\n",
       " 'practices': 7177,\n",
       " 'collective': 1987,\n",
       " 'bargaining': 1160,\n",
       " 'rights': 8227,\n",
       " 'similarly': 8726,\n",
       " '100': 4,\n",
       " 'retrofitting': 8154,\n",
       " 'buildings': 1499,\n",
       " 'reengineering': 7757,\n",
       " 'electrical': 3353,\n",
       " 'grid': 4403,\n",
       " 'adapting': 513,\n",
       " 'prevailing': 7261,\n",
       " 'determined': 2881,\n",
       " 'working': 10490,\n",
       " 'starts': 9047,\n",
       " 'person': 6934,\n",
       " 'sitting': 8751,\n",
       " 'house': 4711,\n",
       " 'america': 759,\n",
       " 'ways': 10342,\n",
       " 'honor': 4678,\n",
       " 'rig': 8220,\n",
       " 'pipeline': 7005,\n",
       " 'builders': 1497,\n",
       " 'given': 4308,\n",
       " 'life': 5602,\n",
       " 'blood': 1338,\n",
       " 'powered': 7169,\n",
       " '20th': 155,\n",
       " 'return': 8157,\n",
       " 'deserve': 2838,\n",
       " 'platitudes': 7045,\n",
       " 'expect': 3726,\n",
       " 'reengineer': 7756,\n",
       " 'day': 2590,\n",
       " 'work': 10484,\n",
       " 'committed': 2039,\n",
       " 'guaranteed': 4432,\n",
       " 'benefit': 1245,\n",
       " 'parity': 6771,\n",
       " 'industries': 4965,\n",
       " 'americans': 761,\n",
       " 'employment': 3420,\n",
       " 'wish': 10460,\n",
       " 'retire': 8139,\n",
       " 'dignity': 2945,\n",
       " 'security': 8489,\n",
       " 'promised': 7390,\n",
       " 'early': 3272,\n",
       " 'retirement': 8143,\n",
       " 'defend': 2695,\n",
       " 'secure': 8482,\n",
       " 'employers': 3418,\n",
       " 'promises': 7391,\n",
       " 'fought': 4129,\n",
       " 'retired': 8140,\n",
       " 'continue': 2266,\n",
       " 'maintain': 5790,\n",
       " 'solvency': 8875,\n",
       " 'multi': 6218,\n",
       " 'employer': 3417,\n",
       " 'pension': 6886,\n",
       " 'plans': 7033,\n",
       " 'earned': 3275,\n",
       " 'empower': 3422,\n",
       " 'defending': 2700,\n",
       " 'recognizing': 7703,\n",
       " 'value': 10130,\n",
       " 'defined': 2711,\n",
       " 'pushing': 7521,\n",
       " 'pass': 6804,\n",
       " 'butch': 1546,\n",
       " 'lewis': 5581,\n",
       " 'loan': 5672,\n",
       " 'financially': 3988,\n",
       " 'distressed': 3103,\n",
       " 'social': 8847,\n",
       " 'increase': 4920,\n",
       " '200': 121,\n",
       " 'beneficiary': 1244,\n",
       " 'lifting': 5613,\n",
       " 'nearly': 6302,\n",
       " 'million': 6045,\n",
       " 'seniors': 8533,\n",
       " 'expanding': 3720,\n",
       " 'disabilities': 2974,\n",
       " 'safety': 8351,\n",
       " 'committees': 2041,\n",
       " '50': 263,\n",
       " '000': 0,\n",
       " 'died': 2926,\n",
       " 'occupational': 6476,\n",
       " 'related': 7881,\n",
       " 'diseases': 3029,\n",
       " 'rolled': 8276,\n",
       " 'limit': 5625,\n",
       " 'requirements': 8031,\n",
       " 'facility': 3832,\n",
       " 'inspections': 5072,\n",
       " 'jeopardizing': 5298,\n",
       " 'power': 7168,\n",
       " 'safe': 8345,\n",
       " 'safer': 8350,\n",
       " 'reinstate': 7855,\n",
       " 'eliminated': 3375,\n",
       " 'representation': 8011,\n",
       " 'force': 4080,\n",
       " 'obligations': 6456,\n",
       " 'matter': 5902,\n",
       " 'tighten': 9612,\n",
       " 'bankruptcy': 1144,\n",
       " 'prevent': 7264,\n",
       " 'evading': 3624,\n",
       " 'responsibility': 8096,\n",
       " 'helped': 4589,\n",
       " 'pollute': 7103,\n",
       " 'senate': 8526,\n",
       " 'standing': 9038,\n",
       " 'congress': 2178,\n",
       " 'legislation': 5547,\n",
       " 'changes': 1759,\n",
       " 'reality': 7653,\n",
       " 'franklin': 4153,\n",
       " 'roosevelt': 8286,\n",
       " 'inspiration': 5075,\n",
       " 'scale': 8396,\n",
       " 'mobilization': 6123,\n",
       " 'defeat': 2690,\n",
       " 'perfect': 6897,\n",
       " 'truth': 9824,\n",
       " 'policies': 7087,\n",
       " 'tainted': 9433,\n",
       " 'structural': 9195,\n",
       " 'deindustrialization': 2724,\n",
       " 'prolonged': 7387,\n",
       " 'lose': 5726,\n",
       " 'policymakers': 7090,\n",
       " 'thought': 9580,\n",
       " 'dump': 3249,\n",
       " 'refuse': 7797,\n",
       " 'vanished': 10138,\n",
       " 'poor': 7110,\n",
       " 'dependent': 2796,\n",
       " 'carbon': 1623,\n",
       " 'asked': 951,\n",
       " 'bear': 1193,\n",
       " 'costs': 2377,\n",
       " 'replicate': 7999,\n",
       " 'failings': 3848,\n",
       " 'limitations': 5627,\n",
       " 'works': 10494,\n",
       " 'leaves': 5532,\n",
       " 'prioritizing': 7297,\n",
       " 'highest': 4614,\n",
       " 'levels': 5573,\n",
       " 'enact': 3434,\n",
       " 'afterthought': 632,\n",
       " 'central': 1716,\n",
       " 'means': 5930,\n",
       " 'structuring': 9200,\n",
       " 'centering': 1714,\n",
       " 'implementing': 4836,\n",
       " 'ensuring': 3512,\n",
       " 'decision': 2644,\n",
       " 'making': 5802,\n",
       " 'elevate': 3365,\n",
       " 'council': 2379,\n",
       " 'broader': 1461,\n",
       " 'priority': 7298,\n",
       " 'update': 10050,\n",
       " '1994': 114,\n",
       " 'order': 6588,\n",
       " 'directed': 2963,\n",
       " 'achieving': 474,\n",
       " 'missions': 6102,\n",
       " 'cabinet': 1559,\n",
       " 'raise': 7582,\n",
       " 'advisory': 590,\n",
       " 'report': 8001,\n",
       " 'bringing': 1455,\n",
       " 'voices': 10239,\n",
       " 'bring': 1454,\n",
       " 'days': 2593,\n",
       " 'office': 6506,\n",
       " 'contributions': 2290,\n",
       " 'activists': 499,\n",
       " 'listen': 5649,\n",
       " 'ideas': 4761,\n",
       " 'dramatic': 3206,\n",
       " 'cuts': 2546,\n",
       " 'civil': 1866,\n",
       " 'threatened': 9586,\n",
       " 'restore': 8107,\n",
       " 'grow': 4422,\n",
       " 'offices': 6510,\n",
       " 'renewed': 7954,\n",
       " 'environment': 3538,\n",
       " 'small': 8819,\n",
       " 'grant': 4375,\n",
       " 'programs': 7372,\n",
       " 'condition': 2143,\n",
       " 'competitive': 2080,\n",
       " 'funds': 4212,\n",
       " 'state': 9055,\n",
       " 'regional': 7810,\n",
       " 'stay': 9071,\n",
       " 'open': 6544,\n",
       " 'provide': 7456,\n",
       " 'capacity': 1607,\n",
       " 'historically': 4638,\n",
       " 'rejected': 7874,\n",
       " 'cases': 1658,\n",
       " 'brought': 1470,\n",
       " 'review': 8173,\n",
       " 'aggressively': 647,\n",
       " 'pursue': 7513,\n",
       " 'bolster': 1357,\n",
       " 'cdc': 1694,\n",
       " 'play': 7046,\n",
       " 'larger': 5472,\n",
       " 'role': 8271,\n",
       " 'links': 5641,\n",
       " 'outcomes': 6622,\n",
       " 'fully': 4198,\n",
       " 'disease': 3028,\n",
       " 'control': 2293,\n",
       " 'poisoning': 7082,\n",
       " 'prevention': 7269,\n",
       " 'investigations': 5213,\n",
       " 'additional': 521,\n",
       " 'independent': 4939,\n",
       " 'diminish': 2951,\n",
       " 'influence': 4998,\n",
       " 'powerful': 7170,\n",
       " 'corporations': 2352,\n",
       " 'exploiting': 3768,\n",
       " 'influencing': 5002,\n",
       " 'regulatory': 7829,\n",
       " 'placing': 7017,\n",
       " 'representatives': 8013,\n",
       " 'positions': 7139,\n",
       " 'end': 3444,\n",
       " 'washington': 10320,\n",
       " 'corruption': 2368,\n",
       " 'slam': 8776,\n",
       " 'shut': 8699,\n",
       " 'revolving': 8192,\n",
       " 'door': 3172,\n",
       " 'reducing': 7751,\n",
       " 'ability': 386,\n",
       " 'promulgated': 7403,\n",
       " 'households': 4714,\n",
       " 'struggle': 9201,\n",
       " 'bills': 1288,\n",
       " 'native': 6280,\n",
       " 'latinx': 5483,\n",
       " 'insecure': 5058,\n",
       " 'renters': 7965,\n",
       " 'landlords': 5456,\n",
       " 'unwilling': 10046,\n",
       " 'invest': 5206,\n",
       " 'weatherization': 10361,\n",
       " 'cheaper': 1790,\n",
       " 'adoption': 559,\n",
       " 'unequal': 9949,\n",
       " 'accounting': 457,\n",
       " 'differences': 2932,\n",
       " 'states': 9058,\n",
       " 'zero': 10574,\n",
       " 'emission': 3402,\n",
       " 'electricity': 3356,\n",
       " '2035': 152,\n",
       " 'integral': 5122,\n",
       " 'address': 523,\n",
       " 'burdens': 1517,\n",
       " 'particularly': 6789,\n",
       " 'rural': 8325,\n",
       " 'spending': 8943,\n",
       " 'older': 6527,\n",
       " 'mobile': 6121,\n",
       " 'weatherized': 10363,\n",
       " 'lack': 5440,\n",
       " 'efficient': 3327,\n",
       " 'upgrades': 10058,\n",
       " 'meet': 5957,\n",
       " 'annually': 800,\n",
       " 'efficiency': 3326,\n",
       " 'initiative': 5032,\n",
       " 'addition': 520,\n",
       " '10': 3,\n",
       " 'located': 5685,\n",
       " 'modernization': 6136,\n",
       " 'targets': 9458,\n",
       " 'jurisdictions': 5352,\n",
       " 'majority': 5797,\n",
       " 'struggling': 9204,\n",
       " 'aftermath': 629,\n",
       " '2008': 130,\n",
       " 'crash': 2435,\n",
       " 'organize': 6600,\n",
       " 'consumer': 2242,\n",
       " 'owned': 6704,\n",
       " 'cooperatives': 2324,\n",
       " 'established': 3599,\n",
       " 'electrify': 3359,\n",
       " 'serve': 8559,\n",
       " 'estimated': 3606,\n",
       " '42': 242,\n",
       " 'ops': 6577,\n",
       " 'assets': 971,\n",
       " 'locked': 5690,\n",
       " 'contracts': 2280,\n",
       " 'dirty': 2973,\n",
       " 'speed': 8940,\n",
       " 'offer': 6501,\n",
       " 'write': 10526,\n",
       " 'debt': 2619,\n",
       " 'restructure': 8120,\n",
       " 'loans': 5673,\n",
       " 'financing': 3989,\n",
       " 'transmission': 9746,\n",
       " 'utilities': 10102,\n",
       " 'service': 8563,\n",
       " 'extend': 3793,\n",
       " 'bonds': 1366,\n",
       " 'allow': 728,\n",
       " 'nonprofits': 6402,\n",
       " 'tax': 9467,\n",
       " 'revenue': 8167,\n",
       " 'incentives': 4884,\n",
       " 'dedicated': 2669,\n",
       " 'marketing': 5862,\n",
       " 'administrations': 545,\n",
       " 'tennessee': 9518,\n",
       " 'valley': 10125,\n",
       " 'appalachian': 832,\n",
       " 'deploy': 2800,\n",
       " 'accelerating': 427,\n",
       " 'reduce': 7748,\n",
       " 'emissions': 3403,\n",
       " 'consumers': 2243,\n",
       " 'utility': 10103,\n",
       " 'equities': 3570,\n",
       " 'host': 4696,\n",
       " 'entitled': 3526,\n",
       " 'receive': 7681,\n",
       " 'share': 8617,\n",
       " 'offered': 6502,\n",
       " 'subsidies': 9241,\n",
       " 'locate': 5684,\n",
       " 'particular': 6788,\n",
       " 'area': 900,\n",
       " 'corresponding': 2363,\n",
       " 'agreements': 656,\n",
       " 'imbalances': 4798,\n",
       " 'project': 7382,\n",
       " 'setting': 8575,\n",
       " ...}"
      ]
     },
     "execution_count": 81,
     "metadata": {},
     "output_type": "execute_result"
    }
   ],
   "source": [
    "cv.vocabulary_"
   ]
  },
  {
   "cell_type": "markdown",
   "metadata": {},
   "source": [
    "### Vectorize Your Text, Then Model"
   ]
  },
  {
   "cell_type": "code",
   "execution_count": 82,
   "metadata": {},
   "outputs": [
    {
     "data": {
      "text/plain": [
       "(141,)"
      ]
     },
     "execution_count": 82,
     "metadata": {},
     "output_type": "execute_result"
    }
   ],
   "source": [
    "X_train.shape"
   ]
  },
  {
   "cell_type": "code",
   "execution_count": 83,
   "metadata": {},
   "outputs": [],
   "source": [
    "# call_on_students(1)"
   ]
  },
  {
   "cell_type": "code",
   "execution_count": 84,
   "metadata": {
    "index": 42
   },
   "outputs": [
    {
     "data": {
      "text/plain": [
       "(141, 10585)"
      ]
     },
     "execution_count": 84,
     "metadata": {},
     "output_type": "execute_result"
    }
   ],
   "source": [
    "# Code here to transform train and test sets with the vectorizer\n",
    "X_train_vec = cv.transform(X_train)\n",
    "X_test_vec = cv.transform(X_test)\n",
    "X_train_vec.todense().shape"
   ]
  },
  {
   "cell_type": "code",
   "execution_count": 97,
   "metadata": {
    "index": 44
   },
   "outputs": [
    {
     "data": {
      "text/plain": [
       "RandomForestClassifier(random_state=42)"
      ]
     },
     "execution_count": 97,
     "metadata": {},
     "output_type": "execute_result"
    }
   ],
   "source": [
    "# Code here to instantiate and fit a Random Forest model\n",
    "rf_model = RandomForestClassifier(random_state=42)\n",
    "rf_model.fit(X_train_vec, y_train)"
   ]
  },
  {
   "cell_type": "code",
   "execution_count": 98,
   "metadata": {},
   "outputs": [
    {
     "data": {
      "text/plain": [
       "1.0"
      ]
     },
     "execution_count": 98,
     "metadata": {},
     "output_type": "execute_result"
    }
   ],
   "source": [
    "# Code here to evaluate your model on the test set\n",
    "rf_model.score(X_train_vec, y_train)"
   ]
  },
  {
   "cell_type": "code",
   "execution_count": 99,
   "metadata": {
    "scrolled": true
   },
   "outputs": [
    {
     "data": {
      "text/plain": [
       "0.9002463054187192"
      ]
     },
     "execution_count": 99,
     "metadata": {},
     "output_type": "execute_result"
    }
   ],
   "source": [
    "cross_val_score(rf_model, X_train_vec, y_train).mean()"
   ]
  },
  {
   "cell_type": "code",
   "execution_count": 100,
   "metadata": {},
   "outputs": [
    {
     "data": {
      "text/plain": [
       "0.9166666666666666"
      ]
     },
     "execution_count": 100,
     "metadata": {},
     "output_type": "execute_result"
    }
   ],
   "source": [
    "rf_model.score(X_test_vec, y_test)"
   ]
  },
  {
   "cell_type": "markdown",
   "metadata": {
    "index": 83
   },
   "source": [
    "# 4) Clustering"
   ]
  },
  {
   "cell_type": "markdown",
   "metadata": {
    "index": 83
   },
   "source": [
    "## Clustering Concepts"
   ]
  },
  {
   "cell_type": "markdown",
   "metadata": {
    "index": 83
   },
   "source": [
    "### Describe how the K-Means algorithm updates its cluster centers (centroids) after initialization."
   ]
  },
  {
   "cell_type": "code",
   "execution_count": null,
   "metadata": {
    "index": 83
   },
   "outputs": [],
   "source": [
    "# call_on_students(1)"
   ]
  },
  {
   "cell_type": "markdown",
   "metadata": {},
   "source": [
    "- assigns each datapoint to the closest starting centroid\n",
    "- centroids are moved to their true centers (based on all the points assigned to them)\n",
    "- remeasure distances from datapoints to centroids\n",
    "- reassign points to closet cluster (if it changed)\n",
    "- this process is then repeated for x number of iterations or centroids stop moving\n",
    "- minimize for intra-cluster distance (tightly packed clusters)\n",
    "- maximize for inter-cluster distance (clusters seperated)\n",
    "- new initialization would repeat this process with new starting centroids"
   ]
  },
  {
   "cell_type": "markdown",
   "metadata": {
    "index": 83
   },
   "source": [
    "### What is inertia, and how does K-Means use inertia to determine the best estimator?"
   ]
  },
  {
   "cell_type": "markdown",
   "metadata": {
    "index": 83
   },
   "source": [
    "Please also describe the method you can use to evaluate clustering using inertia.\n",
    "\n",
    "Documentation, for reference: https://scikit-learn.org/stable/modules/generated/sklearn.cluster.KMeans.html"
   ]
  },
  {
   "cell_type": "code",
   "execution_count": null,
   "metadata": {
    "index": 83
   },
   "outputs": [],
   "source": [
    "# call_on_students(1)"
   ]
  },
  {
   "cell_type": "markdown",
   "metadata": {},
   "source": [
    "- measure of intra-cluster distance, how spread out or tightly packed the clusters are\n",
    "- SSE (sum of squares within cluster - points to center)\n",
    "- Look at different numbers of clusters (k) and graph their respective intertias\n",
    "    - Elbow plot : the best k is the number with the biggest change (inflection) on the plot"
   ]
  },
  {
   "cell_type": "markdown",
   "metadata": {
    "index": 83
   },
   "source": [
    "### What other metric do we have to score the clusters which are formed?"
   ]
  },
  {
   "cell_type": "markdown",
   "metadata": {
    "index": 83
   },
   "source": [
    "Describe the difference between it and inertia."
   ]
  },
  {
   "cell_type": "code",
   "execution_count": null,
   "metadata": {
    "index": 83
   },
   "outputs": [],
   "source": [
    "# call_on_students(1)"
   ]
  },
  {
   "cell_type": "markdown",
   "metadata": {},
   "source": [
    "- Silhoutte score: takes into account intra and inter cluster distance\n",
    "- Ranges b/t -1 and 1, higher the better\n",
    "- The number of clusters with the highest silhoutte score is the best k"
   ]
  },
  {
   "cell_type": "markdown",
   "metadata": {
    "index": 83
   },
   "source": [
    "## Clustering in Code with Heirarchical Agglomerative Clustering"
   ]
  },
  {
   "cell_type": "markdown",
   "metadata": {
    "index": 83
   },
   "source": [
    "After the above conceptual review of KMeans, let's practice coding with agglomerative clustering."
   ]
  },
  {
   "cell_type": "markdown",
   "metadata": {
    "index": 83
   },
   "source": [
    "### Set Up"
   ]
  },
  {
   "cell_type": "code",
   "execution_count": 101,
   "metadata": {
    "index": 83
   },
   "outputs": [],
   "source": [
    "# New dataset for this section!\n",
    "from sklearn.datasets import load_iris\n",
    "\n",
    "data = load_iris()\n",
    "X = pd.DataFrame(data['data'])"
   ]
  },
  {
   "cell_type": "code",
   "execution_count": 104,
   "metadata": {},
   "outputs": [
    {
     "data": {
      "text/html": [
       "<div>\n",
       "<style scoped>\n",
       "    .dataframe tbody tr th:only-of-type {\n",
       "        vertical-align: middle;\n",
       "    }\n",
       "\n",
       "    .dataframe tbody tr th {\n",
       "        vertical-align: top;\n",
       "    }\n",
       "\n",
       "    .dataframe thead th {\n",
       "        text-align: right;\n",
       "    }\n",
       "</style>\n",
       "<table border=\"1\" class=\"dataframe\">\n",
       "  <thead>\n",
       "    <tr style=\"text-align: right;\">\n",
       "      <th></th>\n",
       "      <th>0</th>\n",
       "      <th>1</th>\n",
       "      <th>2</th>\n",
       "      <th>3</th>\n",
       "    </tr>\n",
       "  </thead>\n",
       "  <tbody>\n",
       "    <tr>\n",
       "      <th>0</th>\n",
       "      <td>5.1</td>\n",
       "      <td>3.5</td>\n",
       "      <td>1.4</td>\n",
       "      <td>0.2</td>\n",
       "    </tr>\n",
       "    <tr>\n",
       "      <th>1</th>\n",
       "      <td>4.9</td>\n",
       "      <td>3.0</td>\n",
       "      <td>1.4</td>\n",
       "      <td>0.2</td>\n",
       "    </tr>\n",
       "    <tr>\n",
       "      <th>2</th>\n",
       "      <td>4.7</td>\n",
       "      <td>3.2</td>\n",
       "      <td>1.3</td>\n",
       "      <td>0.2</td>\n",
       "    </tr>\n",
       "    <tr>\n",
       "      <th>3</th>\n",
       "      <td>4.6</td>\n",
       "      <td>3.1</td>\n",
       "      <td>1.5</td>\n",
       "      <td>0.2</td>\n",
       "    </tr>\n",
       "    <tr>\n",
       "      <th>4</th>\n",
       "      <td>5.0</td>\n",
       "      <td>3.6</td>\n",
       "      <td>1.4</td>\n",
       "      <td>0.2</td>\n",
       "    </tr>\n",
       "    <tr>\n",
       "      <th>...</th>\n",
       "      <td>...</td>\n",
       "      <td>...</td>\n",
       "      <td>...</td>\n",
       "      <td>...</td>\n",
       "    </tr>\n",
       "    <tr>\n",
       "      <th>145</th>\n",
       "      <td>6.7</td>\n",
       "      <td>3.0</td>\n",
       "      <td>5.2</td>\n",
       "      <td>2.3</td>\n",
       "    </tr>\n",
       "    <tr>\n",
       "      <th>146</th>\n",
       "      <td>6.3</td>\n",
       "      <td>2.5</td>\n",
       "      <td>5.0</td>\n",
       "      <td>1.9</td>\n",
       "    </tr>\n",
       "    <tr>\n",
       "      <th>147</th>\n",
       "      <td>6.5</td>\n",
       "      <td>3.0</td>\n",
       "      <td>5.2</td>\n",
       "      <td>2.0</td>\n",
       "    </tr>\n",
       "    <tr>\n",
       "      <th>148</th>\n",
       "      <td>6.2</td>\n",
       "      <td>3.4</td>\n",
       "      <td>5.4</td>\n",
       "      <td>2.3</td>\n",
       "    </tr>\n",
       "    <tr>\n",
       "      <th>149</th>\n",
       "      <td>5.9</td>\n",
       "      <td>3.0</td>\n",
       "      <td>5.1</td>\n",
       "      <td>1.8</td>\n",
       "    </tr>\n",
       "  </tbody>\n",
       "</table>\n",
       "<p>150 rows × 4 columns</p>\n",
       "</div>"
      ],
      "text/plain": [
       "       0    1    2    3\n",
       "0    5.1  3.5  1.4  0.2\n",
       "1    4.9  3.0  1.4  0.2\n",
       "2    4.7  3.2  1.3  0.2\n",
       "3    4.6  3.1  1.5  0.2\n",
       "4    5.0  3.6  1.4  0.2\n",
       "..   ...  ...  ...  ...\n",
       "145  6.7  3.0  5.2  2.3\n",
       "146  6.3  2.5  5.0  1.9\n",
       "147  6.5  3.0  5.2  2.0\n",
       "148  6.2  3.4  5.4  2.3\n",
       "149  5.9  3.0  5.1  1.8\n",
       "\n",
       "[150 rows x 4 columns]"
      ]
     },
     "execution_count": 104,
     "metadata": {},
     "output_type": "execute_result"
    }
   ],
   "source": [
    "X"
   ]
  },
  {
   "cell_type": "markdown",
   "metadata": {
    "index": 83
   },
   "source": [
    "### Prepare our Data for Clustering"
   ]
  },
  {
   "cell_type": "markdown",
   "metadata": {
    "index": 83
   },
   "source": [
    "What steps do we need to take to preprocess our data effectively?\n"
   ]
  },
  {
   "cell_type": "code",
   "execution_count": null,
   "metadata": {
    "index": 83
   },
   "outputs": [],
   "source": [
    "# call_on_students(1)"
   ]
  },
  {
   "cell_type": "code",
   "execution_count": 103,
   "metadata": {
    "index": 83
   },
   "outputs": [
    {
     "data": {
      "text/plain": [
       "array([[-9.00681170e-01,  1.01900435e+00, -1.34022653e+00,\n",
       "        -1.31544430e+00],\n",
       "       [-1.14301691e+00, -1.31979479e-01, -1.34022653e+00,\n",
       "        -1.31544430e+00],\n",
       "       [-1.38535265e+00,  3.28414053e-01, -1.39706395e+00,\n",
       "        -1.31544430e+00],\n",
       "       [-1.50652052e+00,  9.82172869e-02, -1.28338910e+00,\n",
       "        -1.31544430e+00],\n",
       "       [-1.02184904e+00,  1.24920112e+00, -1.34022653e+00,\n",
       "        -1.31544430e+00],\n",
       "       [-5.37177559e-01,  1.93979142e+00, -1.16971425e+00,\n",
       "        -1.05217993e+00],\n",
       "       [-1.50652052e+00,  7.88807586e-01, -1.34022653e+00,\n",
       "        -1.18381211e+00],\n",
       "       [-1.02184904e+00,  7.88807586e-01, -1.28338910e+00,\n",
       "        -1.31544430e+00],\n",
       "       [-1.74885626e+00, -3.62176246e-01, -1.34022653e+00,\n",
       "        -1.31544430e+00],\n",
       "       [-1.14301691e+00,  9.82172869e-02, -1.28338910e+00,\n",
       "        -1.44707648e+00],\n",
       "       [-5.37177559e-01,  1.47939788e+00, -1.28338910e+00,\n",
       "        -1.31544430e+00],\n",
       "       [-1.26418478e+00,  7.88807586e-01, -1.22655167e+00,\n",
       "        -1.31544430e+00],\n",
       "       [-1.26418478e+00, -1.31979479e-01, -1.34022653e+00,\n",
       "        -1.44707648e+00],\n",
       "       [-1.87002413e+00, -1.31979479e-01, -1.51073881e+00,\n",
       "        -1.44707648e+00],\n",
       "       [-5.25060772e-02,  2.16998818e+00, -1.45390138e+00,\n",
       "        -1.31544430e+00],\n",
       "       [-1.73673948e-01,  3.09077525e+00, -1.28338910e+00,\n",
       "        -1.05217993e+00],\n",
       "       [-5.37177559e-01,  1.93979142e+00, -1.39706395e+00,\n",
       "        -1.05217993e+00],\n",
       "       [-9.00681170e-01,  1.01900435e+00, -1.34022653e+00,\n",
       "        -1.18381211e+00],\n",
       "       [-1.73673948e-01,  1.70959465e+00, -1.16971425e+00,\n",
       "        -1.18381211e+00],\n",
       "       [-9.00681170e-01,  1.70959465e+00, -1.28338910e+00,\n",
       "        -1.18381211e+00],\n",
       "       [-5.37177559e-01,  7.88807586e-01, -1.16971425e+00,\n",
       "        -1.31544430e+00],\n",
       "       [-9.00681170e-01,  1.47939788e+00, -1.28338910e+00,\n",
       "        -1.05217993e+00],\n",
       "       [-1.50652052e+00,  1.24920112e+00, -1.56757623e+00,\n",
       "        -1.31544430e+00],\n",
       "       [-9.00681170e-01,  5.58610819e-01, -1.16971425e+00,\n",
       "        -9.20547742e-01],\n",
       "       [-1.26418478e+00,  7.88807586e-01, -1.05603939e+00,\n",
       "        -1.31544430e+00],\n",
       "       [-1.02184904e+00, -1.31979479e-01, -1.22655167e+00,\n",
       "        -1.31544430e+00],\n",
       "       [-1.02184904e+00,  7.88807586e-01, -1.22655167e+00,\n",
       "        -1.05217993e+00],\n",
       "       [-7.79513300e-01,  1.01900435e+00, -1.28338910e+00,\n",
       "        -1.31544430e+00],\n",
       "       [-7.79513300e-01,  7.88807586e-01, -1.34022653e+00,\n",
       "        -1.31544430e+00],\n",
       "       [-1.38535265e+00,  3.28414053e-01, -1.22655167e+00,\n",
       "        -1.31544430e+00],\n",
       "       [-1.26418478e+00,  9.82172869e-02, -1.22655167e+00,\n",
       "        -1.31544430e+00],\n",
       "       [-5.37177559e-01,  7.88807586e-01, -1.28338910e+00,\n",
       "        -1.05217993e+00],\n",
       "       [-7.79513300e-01,  2.40018495e+00, -1.28338910e+00,\n",
       "        -1.44707648e+00],\n",
       "       [-4.16009689e-01,  2.63038172e+00, -1.34022653e+00,\n",
       "        -1.31544430e+00],\n",
       "       [-1.14301691e+00,  9.82172869e-02, -1.28338910e+00,\n",
       "        -1.31544430e+00],\n",
       "       [-1.02184904e+00,  3.28414053e-01, -1.45390138e+00,\n",
       "        -1.31544430e+00],\n",
       "       [-4.16009689e-01,  1.01900435e+00, -1.39706395e+00,\n",
       "        -1.31544430e+00],\n",
       "       [-1.14301691e+00,  1.24920112e+00, -1.34022653e+00,\n",
       "        -1.44707648e+00],\n",
       "       [-1.74885626e+00, -1.31979479e-01, -1.39706395e+00,\n",
       "        -1.31544430e+00],\n",
       "       [-9.00681170e-01,  7.88807586e-01, -1.28338910e+00,\n",
       "        -1.31544430e+00],\n",
       "       [-1.02184904e+00,  1.01900435e+00, -1.39706395e+00,\n",
       "        -1.18381211e+00],\n",
       "       [-1.62768839e+00, -1.74335684e+00, -1.39706395e+00,\n",
       "        -1.18381211e+00],\n",
       "       [-1.74885626e+00,  3.28414053e-01, -1.39706395e+00,\n",
       "        -1.31544430e+00],\n",
       "       [-1.02184904e+00,  1.01900435e+00, -1.22655167e+00,\n",
       "        -7.88915558e-01],\n",
       "       [-9.00681170e-01,  1.70959465e+00, -1.05603939e+00,\n",
       "        -1.05217993e+00],\n",
       "       [-1.26418478e+00, -1.31979479e-01, -1.34022653e+00,\n",
       "        -1.18381211e+00],\n",
       "       [-9.00681170e-01,  1.70959465e+00, -1.22655167e+00,\n",
       "        -1.31544430e+00],\n",
       "       [-1.50652052e+00,  3.28414053e-01, -1.34022653e+00,\n",
       "        -1.31544430e+00],\n",
       "       [-6.58345429e-01,  1.47939788e+00, -1.28338910e+00,\n",
       "        -1.31544430e+00],\n",
       "       [-1.02184904e+00,  5.58610819e-01, -1.34022653e+00,\n",
       "        -1.31544430e+00],\n",
       "       [ 1.40150837e+00,  3.28414053e-01,  5.35408562e-01,\n",
       "         2.64141916e-01],\n",
       "       [ 6.74501145e-01,  3.28414053e-01,  4.21733708e-01,\n",
       "         3.95774101e-01],\n",
       "       [ 1.28034050e+00,  9.82172869e-02,  6.49083415e-01,\n",
       "         3.95774101e-01],\n",
       "       [-4.16009689e-01, -1.74335684e+00,  1.37546573e-01,\n",
       "         1.32509732e-01],\n",
       "       [ 7.95669016e-01, -5.92373012e-01,  4.78571135e-01,\n",
       "         3.95774101e-01],\n",
       "       [-1.73673948e-01, -5.92373012e-01,  4.21733708e-01,\n",
       "         1.32509732e-01],\n",
       "       [ 5.53333275e-01,  5.58610819e-01,  5.35408562e-01,\n",
       "         5.27406285e-01],\n",
       "       [-1.14301691e+00, -1.51316008e+00, -2.60315415e-01,\n",
       "        -2.62386821e-01],\n",
       "       [ 9.16836886e-01, -3.62176246e-01,  4.78571135e-01,\n",
       "         1.32509732e-01],\n",
       "       [-7.79513300e-01, -8.22569778e-01,  8.07091462e-02,\n",
       "         2.64141916e-01],\n",
       "       [-1.02184904e+00, -2.43394714e+00, -1.46640561e-01,\n",
       "        -2.62386821e-01],\n",
       "       [ 6.86617933e-02, -1.31979479e-01,  2.51221427e-01,\n",
       "         3.95774101e-01],\n",
       "       [ 1.89829664e-01, -1.97355361e+00,  1.37546573e-01,\n",
       "        -2.62386821e-01],\n",
       "       [ 3.10997534e-01, -3.62176246e-01,  5.35408562e-01,\n",
       "         2.64141916e-01],\n",
       "       [-2.94841818e-01, -3.62176246e-01, -8.98031345e-02,\n",
       "         1.32509732e-01],\n",
       "       [ 1.03800476e+00,  9.82172869e-02,  3.64896281e-01,\n",
       "         2.64141916e-01],\n",
       "       [-2.94841818e-01, -1.31979479e-01,  4.21733708e-01,\n",
       "         3.95774101e-01],\n",
       "       [-5.25060772e-02, -8.22569778e-01,  1.94384000e-01,\n",
       "        -2.62386821e-01],\n",
       "       [ 4.32165405e-01, -1.97355361e+00,  4.21733708e-01,\n",
       "         3.95774101e-01],\n",
       "       [-2.94841818e-01, -1.28296331e+00,  8.07091462e-02,\n",
       "        -1.30754636e-01],\n",
       "       [ 6.86617933e-02,  3.28414053e-01,  5.92245988e-01,\n",
       "         7.90670654e-01],\n",
       "       [ 3.10997534e-01, -5.92373012e-01,  1.37546573e-01,\n",
       "         1.32509732e-01],\n",
       "       [ 5.53333275e-01, -1.28296331e+00,  6.49083415e-01,\n",
       "         3.95774101e-01],\n",
       "       [ 3.10997534e-01, -5.92373012e-01,  5.35408562e-01,\n",
       "         8.77547895e-04],\n",
       "       [ 6.74501145e-01, -3.62176246e-01,  3.08058854e-01,\n",
       "         1.32509732e-01],\n",
       "       [ 9.16836886e-01, -1.31979479e-01,  3.64896281e-01,\n",
       "         2.64141916e-01],\n",
       "       [ 1.15917263e+00, -5.92373012e-01,  5.92245988e-01,\n",
       "         2.64141916e-01],\n",
       "       [ 1.03800476e+00, -1.31979479e-01,  7.05920842e-01,\n",
       "         6.59038469e-01],\n",
       "       [ 1.89829664e-01, -3.62176246e-01,  4.21733708e-01,\n",
       "         3.95774101e-01],\n",
       "       [-1.73673948e-01, -1.05276654e+00, -1.46640561e-01,\n",
       "        -2.62386821e-01],\n",
       "       [-4.16009689e-01, -1.51316008e+00,  2.38717193e-02,\n",
       "        -1.30754636e-01],\n",
       "       [-4.16009689e-01, -1.51316008e+00, -3.29657076e-02,\n",
       "        -2.62386821e-01],\n",
       "       [-5.25060772e-02, -8.22569778e-01,  8.07091462e-02,\n",
       "         8.77547895e-04],\n",
       "       [ 1.89829664e-01, -8.22569778e-01,  7.62758269e-01,\n",
       "         5.27406285e-01],\n",
       "       [-5.37177559e-01, -1.31979479e-01,  4.21733708e-01,\n",
       "         3.95774101e-01],\n",
       "       [ 1.89829664e-01,  7.88807586e-01,  4.21733708e-01,\n",
       "         5.27406285e-01],\n",
       "       [ 1.03800476e+00,  9.82172869e-02,  5.35408562e-01,\n",
       "         3.95774101e-01],\n",
       "       [ 5.53333275e-01, -1.74335684e+00,  3.64896281e-01,\n",
       "         1.32509732e-01],\n",
       "       [-2.94841818e-01, -1.31979479e-01,  1.94384000e-01,\n",
       "         1.32509732e-01],\n",
       "       [-4.16009689e-01, -1.28296331e+00,  1.37546573e-01,\n",
       "         1.32509732e-01],\n",
       "       [-4.16009689e-01, -1.05276654e+00,  3.64896281e-01,\n",
       "         8.77547895e-04],\n",
       "       [ 3.10997534e-01, -1.31979479e-01,  4.78571135e-01,\n",
       "         2.64141916e-01],\n",
       "       [-5.25060772e-02, -1.05276654e+00,  1.37546573e-01,\n",
       "         8.77547895e-04],\n",
       "       [-1.02184904e+00, -1.74335684e+00, -2.60315415e-01,\n",
       "        -2.62386821e-01],\n",
       "       [-2.94841818e-01, -8.22569778e-01,  2.51221427e-01,\n",
       "         1.32509732e-01],\n",
       "       [-1.73673948e-01, -1.31979479e-01,  2.51221427e-01,\n",
       "         8.77547895e-04],\n",
       "       [-1.73673948e-01, -3.62176246e-01,  2.51221427e-01,\n",
       "         1.32509732e-01],\n",
       "       [ 4.32165405e-01, -3.62176246e-01,  3.08058854e-01,\n",
       "         1.32509732e-01],\n",
       "       [-9.00681170e-01, -1.28296331e+00, -4.30827696e-01,\n",
       "        -1.30754636e-01],\n",
       "       [-1.73673948e-01, -5.92373012e-01,  1.94384000e-01,\n",
       "         1.32509732e-01],\n",
       "       [ 5.53333275e-01,  5.58610819e-01,  1.27429511e+00,\n",
       "         1.71209594e+00],\n",
       "       [-5.25060772e-02, -8.22569778e-01,  7.62758269e-01,\n",
       "         9.22302838e-01],\n",
       "       [ 1.52267624e+00, -1.31979479e-01,  1.21745768e+00,\n",
       "         1.18556721e+00],\n",
       "       [ 5.53333275e-01, -3.62176246e-01,  1.04694540e+00,\n",
       "         7.90670654e-01],\n",
       "       [ 7.95669016e-01, -1.31979479e-01,  1.16062026e+00,\n",
       "         1.31719939e+00],\n",
       "       [ 2.12851559e+00, -1.31979479e-01,  1.61531967e+00,\n",
       "         1.18556721e+00],\n",
       "       [-1.14301691e+00, -1.28296331e+00,  4.21733708e-01,\n",
       "         6.59038469e-01],\n",
       "       [ 1.76501198e+00, -3.62176246e-01,  1.44480739e+00,\n",
       "         7.90670654e-01],\n",
       "       [ 1.03800476e+00, -1.28296331e+00,  1.16062026e+00,\n",
       "         7.90670654e-01],\n",
       "       [ 1.64384411e+00,  1.24920112e+00,  1.33113254e+00,\n",
       "         1.71209594e+00],\n",
       "       [ 7.95669016e-01,  3.28414053e-01,  7.62758269e-01,\n",
       "         1.05393502e+00],\n",
       "       [ 6.74501145e-01, -8.22569778e-01,  8.76433123e-01,\n",
       "         9.22302838e-01],\n",
       "       [ 1.15917263e+00, -1.31979479e-01,  9.90107977e-01,\n",
       "         1.18556721e+00],\n",
       "       [-1.73673948e-01, -1.28296331e+00,  7.05920842e-01,\n",
       "         1.05393502e+00],\n",
       "       [-5.25060772e-02, -5.92373012e-01,  7.62758269e-01,\n",
       "         1.58046376e+00],\n",
       "       [ 6.74501145e-01,  3.28414053e-01,  8.76433123e-01,\n",
       "         1.44883158e+00],\n",
       "       [ 7.95669016e-01, -1.31979479e-01,  9.90107977e-01,\n",
       "         7.90670654e-01],\n",
       "       [ 2.24968346e+00,  1.70959465e+00,  1.67215710e+00,\n",
       "         1.31719939e+00],\n",
       "       [ 2.24968346e+00, -1.05276654e+00,  1.78583195e+00,\n",
       "         1.44883158e+00],\n",
       "       [ 1.89829664e-01, -1.97355361e+00,  7.05920842e-01,\n",
       "         3.95774101e-01],\n",
       "       [ 1.28034050e+00,  3.28414053e-01,  1.10378283e+00,\n",
       "         1.44883158e+00],\n",
       "       [-2.94841818e-01, -5.92373012e-01,  6.49083415e-01,\n",
       "         1.05393502e+00],\n",
       "       [ 2.24968346e+00, -5.92373012e-01,  1.67215710e+00,\n",
       "         1.05393502e+00],\n",
       "       [ 5.53333275e-01, -8.22569778e-01,  6.49083415e-01,\n",
       "         7.90670654e-01],\n",
       "       [ 1.03800476e+00,  5.58610819e-01,  1.10378283e+00,\n",
       "         1.18556721e+00],\n",
       "       [ 1.64384411e+00,  3.28414053e-01,  1.27429511e+00,\n",
       "         7.90670654e-01],\n",
       "       [ 4.32165405e-01, -5.92373012e-01,  5.92245988e-01,\n",
       "         7.90670654e-01],\n",
       "       [ 3.10997534e-01, -1.31979479e-01,  6.49083415e-01,\n",
       "         7.90670654e-01],\n",
       "       [ 6.74501145e-01, -5.92373012e-01,  1.04694540e+00,\n",
       "         1.18556721e+00],\n",
       "       [ 1.64384411e+00, -1.31979479e-01,  1.16062026e+00,\n",
       "         5.27406285e-01],\n",
       "       [ 1.88617985e+00, -5.92373012e-01,  1.33113254e+00,\n",
       "         9.22302838e-01],\n",
       "       [ 2.49201920e+00,  1.70959465e+00,  1.50164482e+00,\n",
       "         1.05393502e+00],\n",
       "       [ 6.74501145e-01, -5.92373012e-01,  1.04694540e+00,\n",
       "         1.31719939e+00],\n",
       "       [ 5.53333275e-01, -5.92373012e-01,  7.62758269e-01,\n",
       "         3.95774101e-01],\n",
       "       [ 3.10997534e-01, -1.05276654e+00,  1.04694540e+00,\n",
       "         2.64141916e-01],\n",
       "       [ 2.24968346e+00, -1.31979479e-01,  1.33113254e+00,\n",
       "         1.44883158e+00],\n",
       "       [ 5.53333275e-01,  7.88807586e-01,  1.04694540e+00,\n",
       "         1.58046376e+00],\n",
       "       [ 6.74501145e-01,  9.82172869e-02,  9.90107977e-01,\n",
       "         7.90670654e-01],\n",
       "       [ 1.89829664e-01, -1.31979479e-01,  5.92245988e-01,\n",
       "         7.90670654e-01],\n",
       "       [ 1.28034050e+00,  9.82172869e-02,  9.33270550e-01,\n",
       "         1.18556721e+00],\n",
       "       [ 1.03800476e+00,  9.82172869e-02,  1.04694540e+00,\n",
       "         1.58046376e+00],\n",
       "       [ 1.28034050e+00,  9.82172869e-02,  7.62758269e-01,\n",
       "         1.44883158e+00],\n",
       "       [-5.25060772e-02, -8.22569778e-01,  7.62758269e-01,\n",
       "         9.22302838e-01],\n",
       "       [ 1.15917263e+00,  3.28414053e-01,  1.21745768e+00,\n",
       "         1.44883158e+00],\n",
       "       [ 1.03800476e+00,  5.58610819e-01,  1.10378283e+00,\n",
       "         1.71209594e+00],\n",
       "       [ 1.03800476e+00, -1.31979479e-01,  8.19595696e-01,\n",
       "         1.44883158e+00],\n",
       "       [ 5.53333275e-01, -1.28296331e+00,  7.05920842e-01,\n",
       "         9.22302838e-01],\n",
       "       [ 7.95669016e-01, -1.31979479e-01,  8.19595696e-01,\n",
       "         1.05393502e+00],\n",
       "       [ 4.32165405e-01,  7.88807586e-01,  9.33270550e-01,\n",
       "         1.44883158e+00],\n",
       "       [ 6.86617933e-02, -1.31979479e-01,  7.62758269e-01,\n",
       "         7.90670654e-01]])"
      ]
     },
     "execution_count": 103,
     "metadata": {},
     "output_type": "execute_result"
    }
   ],
   "source": [
    "# Code to preprocess the data\n",
    "scaler = StandardScaler()\n",
    "# Name the processed data X_processed\n",
    "X_sc = scaler.fit_transform(X)\n",
    "X_sc"
   ]
  },
  {
   "cell_type": "markdown",
   "metadata": {
    "index": 83
   },
   "source": [
    "### Import the Relevant Class, Then Instantiate and Fit a Hierarchical Agglomerative Clustering Object"
   ]
  },
  {
   "cell_type": "markdown",
   "metadata": {
    "index": 83
   },
   "source": [
    "Let's use `n_clusters = 2` to start (default)"
   ]
  },
  {
   "cell_type": "code",
   "execution_count": null,
   "metadata": {
    "index": 83
   },
   "outputs": [],
   "source": [
    "# call_on_students(1)"
   ]
  },
  {
   "cell_type": "code",
   "execution_count": 128,
   "metadata": {
    "index": 83
   },
   "outputs": [
    {
     "data": {
      "text/plain": [
       "AgglomerativeClustering()"
      ]
     },
     "execution_count": 128,
     "metadata": {},
     "output_type": "execute_result"
    }
   ],
   "source": [
    "# Import the relevent clustering algorithm\n",
    "from sklearn.cluster import AgglomerativeClustering\n",
    "\n",
    "# Instantiate and fit\n",
    "agg = AgglomerativeClustering(n_clusters=2)\n",
    "agg.fit(X_sc)"
   ]
  },
  {
   "cell_type": "code",
   "execution_count": 129,
   "metadata": {
    "index": 83
   },
   "outputs": [],
   "source": [
    "# Calculate a silhouette score\n",
    "from sklearn.metrics import silhouette_score"
   ]
  },
  {
   "cell_type": "code",
   "execution_count": 130,
   "metadata": {
    "scrolled": true
   },
   "outputs": [
    {
     "data": {
      "text/plain": [
       "array([1, 1, 1, 1, 1, 1, 1, 1, 1, 1, 1, 1, 1, 1, 1, 1, 1, 1, 1, 1, 1, 1,\n",
       "       1, 1, 1, 1, 1, 1, 1, 1, 1, 1, 1, 1, 1, 1, 1, 1, 1, 1, 1, 0, 1, 1,\n",
       "       1, 1, 1, 1, 1, 1, 0, 0, 0, 0, 0, 0, 0, 0, 0, 0, 0, 0, 0, 0, 0, 0,\n",
       "       0, 0, 0, 0, 0, 0, 0, 0, 0, 0, 0, 0, 0, 0, 0, 0, 0, 0, 0, 0, 0, 0,\n",
       "       0, 0, 0, 0, 0, 0, 0, 0, 0, 0, 0, 0, 0, 0, 0, 0, 0, 0, 0, 0, 0, 0,\n",
       "       0, 0, 0, 0, 0, 0, 0, 0, 0, 0, 0, 0, 0, 0, 0, 0, 0, 0, 0, 0, 0, 0,\n",
       "       0, 0, 0, 0, 0, 0, 0, 0, 0, 0, 0, 0, 0, 0, 0, 0, 0, 0])"
      ]
     },
     "execution_count": 130,
     "metadata": {},
     "output_type": "execute_result"
    }
   ],
   "source": [
    "agg.labels_"
   ]
  },
  {
   "cell_type": "code",
   "execution_count": 131,
   "metadata": {},
   "outputs": [
    {
     "data": {
      "text/plain": [
       "array([1, 1, 1, 1, 1, 1, 1, 1, 1, 1, 1, 1, 1, 1, 1, 1, 1, 1, 1, 1, 1, 1,\n",
       "       1, 1, 1, 1, 1, 1, 1, 1, 1, 1, 1, 1, 1, 1, 1, 1, 1, 1, 1, 0, 1, 1,\n",
       "       1, 1, 1, 1, 1, 1, 0, 0, 0, 0, 0, 0, 0, 0, 0, 0, 0, 0, 0, 0, 0, 0,\n",
       "       0, 0, 0, 0, 0, 0, 0, 0, 0, 0, 0, 0, 0, 0, 0, 0, 0, 0, 0, 0, 0, 0,\n",
       "       0, 0, 0, 0, 0, 0, 0, 0, 0, 0, 0, 0, 0, 0, 0, 0, 0, 0, 0, 0, 0, 0,\n",
       "       0, 0, 0, 0, 0, 0, 0, 0, 0, 0, 0, 0, 0, 0, 0, 0, 0, 0, 0, 0, 0, 0,\n",
       "       0, 0, 0, 0, 0, 0, 0, 0, 0, 0, 0, 0, 0, 0, 0, 0, 0, 0])"
      ]
     },
     "execution_count": 131,
     "metadata": {},
     "output_type": "execute_result"
    }
   ],
   "source": [
    "agg.fit_predict(X_sc)"
   ]
  },
  {
   "cell_type": "code",
   "execution_count": 132,
   "metadata": {},
   "outputs": [
    {
     "data": {
      "text/plain": [
       "0.5770346019475989"
      ]
     },
     "execution_count": 132,
     "metadata": {},
     "output_type": "execute_result"
    }
   ],
   "source": [
    "silhouette_score(X_sc, agg.labels_)"
   ]
  },
  {
   "cell_type": "code",
   "execution_count": 133,
   "metadata": {},
   "outputs": [
    {
     "ename": "TypeError",
     "evalue": "If no scoring is specified, the estimator passed should have a 'score' method. The estimator AgglomerativeClustering() does not.",
     "output_type": "error",
     "traceback": [
      "\u001b[0;31m---------------------------------------------------------------------------\u001b[0m",
      "\u001b[0;31mTypeError\u001b[0m                                 Traceback (most recent call last)",
      "\u001b[0;32m<ipython-input-133-23877b094422>\u001b[0m in \u001b[0;36m<module>\u001b[0;34m\u001b[0m\n\u001b[1;32m      1\u001b[0m \u001b[0mgrid\u001b[0m \u001b[0;34m=\u001b[0m \u001b[0;34m{\u001b[0m\u001b[0;34m'n_clusters'\u001b[0m\u001b[0;34m:\u001b[0m \u001b[0;34m[\u001b[0m\u001b[0;36m2\u001b[0m\u001b[0;34m,\u001b[0m \u001b[0;36m3\u001b[0m\u001b[0;34m,\u001b[0m \u001b[0;36m4\u001b[0m\u001b[0;34m,\u001b[0m \u001b[0;36m5\u001b[0m\u001b[0;34m,\u001b[0m \u001b[0;36m6\u001b[0m\u001b[0;34m]\u001b[0m\u001b[0;34m}\u001b[0m\u001b[0;34m\u001b[0m\u001b[0;34m\u001b[0m\u001b[0m\n\u001b[1;32m      2\u001b[0m \u001b[0mgs_cluster\u001b[0m \u001b[0;34m=\u001b[0m \u001b[0mGridSearchCV\u001b[0m\u001b[0;34m(\u001b[0m\u001b[0magg\u001b[0m\u001b[0;34m,\u001b[0m \u001b[0mparam_grid\u001b[0m\u001b[0;34m=\u001b[0m\u001b[0mgrid\u001b[0m\u001b[0;34m)\u001b[0m\u001b[0;34m\u001b[0m\u001b[0;34m\u001b[0m\u001b[0m\n\u001b[0;32m----> 3\u001b[0;31m \u001b[0mgs_cluster\u001b[0m\u001b[0;34m.\u001b[0m\u001b[0mfit\u001b[0m\u001b[0;34m(\u001b[0m\u001b[0mX\u001b[0m\u001b[0;34m=\u001b[0m\u001b[0mX_sc\u001b[0m\u001b[0;34m)\u001b[0m\u001b[0;34m\u001b[0m\u001b[0;34m\u001b[0m\u001b[0m\n\u001b[0m",
      "\u001b[0;32m/opt/anaconda3/envs/learn-env/lib/python3.8/site-packages/sklearn/utils/validation.py\u001b[0m in \u001b[0;36minner_f\u001b[0;34m(*args, **kwargs)\u001b[0m\n\u001b[1;32m     70\u001b[0m                           FutureWarning)\n\u001b[1;32m     71\u001b[0m         \u001b[0mkwargs\u001b[0m\u001b[0;34m.\u001b[0m\u001b[0mupdate\u001b[0m\u001b[0;34m(\u001b[0m\u001b[0;34m{\u001b[0m\u001b[0mk\u001b[0m\u001b[0;34m:\u001b[0m \u001b[0marg\u001b[0m \u001b[0;32mfor\u001b[0m \u001b[0mk\u001b[0m\u001b[0;34m,\u001b[0m \u001b[0marg\u001b[0m \u001b[0;32min\u001b[0m \u001b[0mzip\u001b[0m\u001b[0;34m(\u001b[0m\u001b[0msig\u001b[0m\u001b[0;34m.\u001b[0m\u001b[0mparameters\u001b[0m\u001b[0;34m,\u001b[0m \u001b[0margs\u001b[0m\u001b[0;34m)\u001b[0m\u001b[0;34m}\u001b[0m\u001b[0;34m)\u001b[0m\u001b[0;34m\u001b[0m\u001b[0;34m\u001b[0m\u001b[0m\n\u001b[0;32m---> 72\u001b[0;31m         \u001b[0;32mreturn\u001b[0m \u001b[0mf\u001b[0m\u001b[0;34m(\u001b[0m\u001b[0;34m**\u001b[0m\u001b[0mkwargs\u001b[0m\u001b[0;34m)\u001b[0m\u001b[0;34m\u001b[0m\u001b[0;34m\u001b[0m\u001b[0m\n\u001b[0m\u001b[1;32m     73\u001b[0m     \u001b[0;32mreturn\u001b[0m \u001b[0minner_f\u001b[0m\u001b[0;34m\u001b[0m\u001b[0;34m\u001b[0m\u001b[0m\n\u001b[1;32m     74\u001b[0m \u001b[0;34m\u001b[0m\u001b[0m\n",
      "\u001b[0;32m/opt/anaconda3/envs/learn-env/lib/python3.8/site-packages/sklearn/model_selection/_search.py\u001b[0m in \u001b[0;36mfit\u001b[0;34m(self, X, y, groups, **fit_params)\u001b[0m\n\u001b[1;32m    652\u001b[0m         \u001b[0mcv\u001b[0m \u001b[0;34m=\u001b[0m \u001b[0mcheck_cv\u001b[0m\u001b[0;34m(\u001b[0m\u001b[0mself\u001b[0m\u001b[0;34m.\u001b[0m\u001b[0mcv\u001b[0m\u001b[0;34m,\u001b[0m \u001b[0my\u001b[0m\u001b[0;34m,\u001b[0m \u001b[0mclassifier\u001b[0m\u001b[0;34m=\u001b[0m\u001b[0mis_classifier\u001b[0m\u001b[0;34m(\u001b[0m\u001b[0mestimator\u001b[0m\u001b[0;34m)\u001b[0m\u001b[0;34m)\u001b[0m\u001b[0;34m\u001b[0m\u001b[0;34m\u001b[0m\u001b[0m\n\u001b[1;32m    653\u001b[0m \u001b[0;34m\u001b[0m\u001b[0m\n\u001b[0;32m--> 654\u001b[0;31m         scorers, self.multimetric_ = _check_multimetric_scoring(\n\u001b[0m\u001b[1;32m    655\u001b[0m             self.estimator, scoring=self.scoring)\n\u001b[1;32m    656\u001b[0m \u001b[0;34m\u001b[0m\u001b[0m\n",
      "\u001b[0;32m/opt/anaconda3/envs/learn-env/lib/python3.8/site-packages/sklearn/metrics/_scorer.py\u001b[0m in \u001b[0;36m_check_multimetric_scoring\u001b[0;34m(estimator, scoring)\u001b[0m\n\u001b[1;32m    473\u001b[0m     if callable(scoring) or scoring is None or isinstance(scoring,\n\u001b[1;32m    474\u001b[0m                                                           str):\n\u001b[0;32m--> 475\u001b[0;31m         \u001b[0mscorers\u001b[0m \u001b[0;34m=\u001b[0m \u001b[0;34m{\u001b[0m\u001b[0;34m\"score\"\u001b[0m\u001b[0;34m:\u001b[0m \u001b[0mcheck_scoring\u001b[0m\u001b[0;34m(\u001b[0m\u001b[0mestimator\u001b[0m\u001b[0;34m,\u001b[0m \u001b[0mscoring\u001b[0m\u001b[0;34m=\u001b[0m\u001b[0mscoring\u001b[0m\u001b[0;34m)\u001b[0m\u001b[0;34m}\u001b[0m\u001b[0;34m\u001b[0m\u001b[0;34m\u001b[0m\u001b[0m\n\u001b[0m\u001b[1;32m    476\u001b[0m         \u001b[0;32mreturn\u001b[0m \u001b[0mscorers\u001b[0m\u001b[0;34m,\u001b[0m \u001b[0;32mFalse\u001b[0m\u001b[0;34m\u001b[0m\u001b[0;34m\u001b[0m\u001b[0m\n\u001b[1;32m    477\u001b[0m     \u001b[0;32melse\u001b[0m\u001b[0;34m:\u001b[0m\u001b[0;34m\u001b[0m\u001b[0;34m\u001b[0m\u001b[0m\n",
      "\u001b[0;32m/opt/anaconda3/envs/learn-env/lib/python3.8/site-packages/sklearn/utils/validation.py\u001b[0m in \u001b[0;36minner_f\u001b[0;34m(*args, **kwargs)\u001b[0m\n\u001b[1;32m     70\u001b[0m                           FutureWarning)\n\u001b[1;32m     71\u001b[0m         \u001b[0mkwargs\u001b[0m\u001b[0;34m.\u001b[0m\u001b[0mupdate\u001b[0m\u001b[0;34m(\u001b[0m\u001b[0;34m{\u001b[0m\u001b[0mk\u001b[0m\u001b[0;34m:\u001b[0m \u001b[0marg\u001b[0m \u001b[0;32mfor\u001b[0m \u001b[0mk\u001b[0m\u001b[0;34m,\u001b[0m \u001b[0marg\u001b[0m \u001b[0;32min\u001b[0m \u001b[0mzip\u001b[0m\u001b[0;34m(\u001b[0m\u001b[0msig\u001b[0m\u001b[0;34m.\u001b[0m\u001b[0mparameters\u001b[0m\u001b[0;34m,\u001b[0m \u001b[0margs\u001b[0m\u001b[0;34m)\u001b[0m\u001b[0;34m}\u001b[0m\u001b[0;34m)\u001b[0m\u001b[0;34m\u001b[0m\u001b[0;34m\u001b[0m\u001b[0m\n\u001b[0;32m---> 72\u001b[0;31m         \u001b[0;32mreturn\u001b[0m \u001b[0mf\u001b[0m\u001b[0;34m(\u001b[0m\u001b[0;34m**\u001b[0m\u001b[0mkwargs\u001b[0m\u001b[0;34m)\u001b[0m\u001b[0;34m\u001b[0m\u001b[0;34m\u001b[0m\u001b[0m\n\u001b[0m\u001b[1;32m     73\u001b[0m     \u001b[0;32mreturn\u001b[0m \u001b[0minner_f\u001b[0m\u001b[0;34m\u001b[0m\u001b[0;34m\u001b[0m\u001b[0m\n\u001b[1;32m     74\u001b[0m \u001b[0;34m\u001b[0m\u001b[0m\n",
      "\u001b[0;32m/opt/anaconda3/envs/learn-env/lib/python3.8/site-packages/sklearn/metrics/_scorer.py\u001b[0m in \u001b[0;36mcheck_scoring\u001b[0;34m(estimator, scoring, allow_none)\u001b[0m\n\u001b[1;32m    423\u001b[0m             \u001b[0;32mreturn\u001b[0m \u001b[0;32mNone\u001b[0m\u001b[0;34m\u001b[0m\u001b[0;34m\u001b[0m\u001b[0m\n\u001b[1;32m    424\u001b[0m         \u001b[0;32melse\u001b[0m\u001b[0;34m:\u001b[0m\u001b[0;34m\u001b[0m\u001b[0;34m\u001b[0m\u001b[0m\n\u001b[0;32m--> 425\u001b[0;31m             raise TypeError(\n\u001b[0m\u001b[1;32m    426\u001b[0m                 \u001b[0;34m\"If no scoring is specified, the estimator passed should \"\u001b[0m\u001b[0;34m\u001b[0m\u001b[0;34m\u001b[0m\u001b[0m\n\u001b[1;32m    427\u001b[0m                 \u001b[0;34m\"have a 'score' method. The estimator %r does not.\"\u001b[0m\u001b[0;34m\u001b[0m\u001b[0;34m\u001b[0m\u001b[0m\n",
      "\u001b[0;31mTypeError\u001b[0m: If no scoring is specified, the estimator passed should have a 'score' method. The estimator AgglomerativeClustering() does not."
     ]
    }
   ],
   "source": [
    "grid = {'n_clusters': [2, 3, 4, 5, 6]}\n",
    "gs_cluster = GridSearchCV(agg, param_grid=grid)\n",
    "gs_cluster.fit(X=X_sc)"
   ]
  },
  {
   "cell_type": "markdown",
   "metadata": {
    "index": 83
   },
   "source": [
    "### Write a Function to Test Different Options for `n_clusters`"
   ]
  },
  {
   "cell_type": "markdown",
   "metadata": {
    "index": 83
   },
   "source": [
    "The function should take in the number for `n_clusters` and the data to cluster, fit a new clustering model using that parameter to the data, print the silhouette score, then return the labels attribute from the fit clustering model."
   ]
  },
  {
   "cell_type": "code",
   "execution_count": null,
   "metadata": {
    "index": 83
   },
   "outputs": [],
   "source": [
    "# call_on_students(1)"
   ]
  },
  {
   "cell_type": "code",
   "execution_count": 140,
   "metadata": {},
   "outputs": [],
   "source": [
    "def best_cluster(n, data):\n",
    "    cluster = AgglomerativeClustering(n_clusters=n)\n",
    "    cluster.fit(data)\n",
    "    labels = cluster.labels_\n",
    "    sil = silhouette_score(data, labels)\n",
    "    print(n, sil)\n",
    "    return labels"
   ]
  },
  {
   "cell_type": "code",
   "execution_count": 141,
   "metadata": {},
   "outputs": [
    {
     "name": "stdout",
     "output_type": "stream",
     "text": [
      "2 0.5770346019475989\n",
      "3 0.446689041028591\n",
      "4 0.4006363159855973\n",
      "5 0.33058726295230545\n",
      "6 0.3148548010051283\n",
      "7 0.316969830299128\n",
      "8 0.310946529007258\n",
      "9 0.31143422475471655\n"
     ]
    }
   ],
   "source": [
    "all_labels = []\n",
    "for k in range(2, 10):\n",
    "    all_labels.append((k, best_cluster(k, X_sc)))"
   ]
  },
  {
   "cell_type": "code",
   "execution_count": 139,
   "metadata": {},
   "outputs": [
    {
     "data": {
      "text/plain": [
       "[(2,\n",
       "  array([1, 1, 1, 1, 1, 1, 1, 1, 1, 1, 1, 1, 1, 1, 1, 1, 1, 1, 1, 1, 1, 1,\n",
       "         1, 1, 1, 1, 1, 1, 1, 1, 1, 1, 1, 1, 1, 1, 1, 1, 1, 1, 1, 0, 1, 1,\n",
       "         1, 1, 1, 1, 1, 1, 0, 0, 0, 0, 0, 0, 0, 0, 0, 0, 0, 0, 0, 0, 0, 0,\n",
       "         0, 0, 0, 0, 0, 0, 0, 0, 0, 0, 0, 0, 0, 0, 0, 0, 0, 0, 0, 0, 0, 0,\n",
       "         0, 0, 0, 0, 0, 0, 0, 0, 0, 0, 0, 0, 0, 0, 0, 0, 0, 0, 0, 0, 0, 0,\n",
       "         0, 0, 0, 0, 0, 0, 0, 0, 0, 0, 0, 0, 0, 0, 0, 0, 0, 0, 0, 0, 0, 0,\n",
       "         0, 0, 0, 0, 0, 0, 0, 0, 0, 0, 0, 0, 0, 0, 0, 0, 0, 0])),\n",
       " (3,\n",
       "  array([1, 1, 1, 1, 1, 1, 1, 1, 1, 1, 1, 1, 1, 1, 1, 1, 1, 1, 1, 1, 1, 1,\n",
       "         1, 1, 1, 1, 1, 1, 1, 1, 1, 1, 1, 1, 1, 1, 1, 1, 1, 1, 1, 2, 1, 1,\n",
       "         1, 1, 1, 1, 1, 1, 0, 0, 0, 2, 0, 2, 0, 2, 0, 2, 2, 0, 2, 0, 2, 0,\n",
       "         2, 2, 2, 2, 0, 0, 0, 0, 0, 0, 0, 0, 0, 2, 2, 2, 2, 0, 2, 0, 0, 2,\n",
       "         2, 2, 2, 0, 2, 2, 2, 2, 2, 0, 2, 2, 0, 0, 0, 0, 0, 0, 2, 0, 0, 0,\n",
       "         0, 0, 0, 0, 0, 0, 0, 0, 0, 2, 0, 0, 0, 0, 0, 0, 0, 0, 0, 0, 0, 0,\n",
       "         0, 0, 0, 0, 0, 0, 0, 0, 0, 0, 0, 0, 0, 0, 0, 0, 0, 0])),\n",
       " (4,\n",
       "  array([0, 0, 0, 0, 0, 0, 0, 0, 0, 0, 0, 0, 0, 0, 0, 0, 0, 0, 0, 0, 0, 0,\n",
       "         0, 0, 0, 0, 0, 0, 0, 0, 0, 0, 0, 0, 0, 0, 0, 0, 0, 0, 0, 2, 0, 0,\n",
       "         0, 0, 0, 0, 0, 0, 3, 3, 3, 2, 3, 2, 3, 2, 3, 2, 2, 3, 2, 3, 2, 3,\n",
       "         2, 2, 2, 2, 3, 3, 3, 3, 3, 3, 3, 3, 3, 2, 2, 2, 2, 3, 2, 3, 3, 2,\n",
       "         2, 2, 2, 3, 2, 2, 2, 2, 2, 3, 2, 2, 1, 3, 1, 3, 3, 1, 2, 1, 3, 1,\n",
       "         1, 3, 1, 3, 3, 1, 3, 1, 1, 2, 1, 3, 1, 3, 1, 1, 3, 3, 3, 1, 1, 1,\n",
       "         3, 3, 3, 1, 1, 3, 3, 1, 1, 1, 3, 1, 1, 1, 3, 3, 1, 3])),\n",
       " (5,\n",
       "  array([2, 4, 4, 4, 2, 2, 4, 2, 4, 4, 2, 4, 4, 4, 2, 2, 2, 2, 2, 2, 2, 2,\n",
       "         2, 2, 4, 4, 2, 2, 2, 4, 4, 2, 2, 2, 4, 4, 2, 2, 4, 2, 2, 0, 4, 2,\n",
       "         2, 4, 2, 4, 2, 4, 3, 3, 3, 0, 3, 0, 3, 0, 3, 0, 0, 3, 0, 3, 0, 3,\n",
       "         0, 0, 0, 0, 3, 3, 3, 3, 3, 3, 3, 3, 3, 0, 0, 0, 0, 3, 0, 3, 3, 0,\n",
       "         0, 0, 0, 3, 0, 0, 0, 0, 0, 3, 0, 0, 1, 3, 1, 3, 3, 1, 0, 1, 3, 1,\n",
       "         1, 3, 1, 3, 3, 1, 3, 1, 1, 0, 1, 3, 1, 3, 1, 1, 3, 3, 3, 1, 1, 1,\n",
       "         3, 3, 3, 1, 1, 3, 3, 1, 1, 1, 3, 1, 1, 1, 3, 3, 1, 3])),\n",
       " (6,\n",
       "  array([2, 4, 4, 4, 2, 2, 4, 2, 4, 4, 2, 4, 4, 4, 2, 2, 2, 2, 2, 2, 2, 2,\n",
       "         2, 2, 4, 4, 2, 2, 2, 4, 4, 2, 2, 2, 4, 4, 2, 2, 4, 2, 2, 5, 4, 2,\n",
       "         2, 4, 2, 4, 2, 4, 1, 1, 1, 3, 1, 3, 1, 5, 1, 3, 5, 1, 3, 1, 3, 1,\n",
       "         3, 3, 3, 3, 1, 1, 1, 1, 1, 1, 1, 1, 1, 3, 3, 3, 3, 1, 3, 1, 1, 3,\n",
       "         3, 3, 3, 1, 3, 5, 3, 3, 3, 1, 5, 3, 0, 1, 0, 1, 1, 0, 3, 0, 1, 0,\n",
       "         0, 1, 0, 1, 1, 0, 1, 0, 0, 3, 0, 1, 0, 1, 0, 0, 1, 1, 1, 0, 0, 0,\n",
       "         1, 1, 1, 0, 0, 1, 1, 0, 0, 0, 1, 0, 0, 0, 1, 1, 0, 1])),\n",
       " (7,\n",
       "  array([0, 4, 4, 4, 0, 0, 4, 0, 4, 4, 0, 4, 4, 4, 0, 0, 0, 0, 0, 0, 0, 0,\n",
       "         0, 0, 4, 4, 0, 0, 0, 4, 4, 0, 0, 0, 4, 4, 0, 0, 4, 0, 0, 5, 4, 0,\n",
       "         0, 4, 0, 4, 0, 4, 1, 1, 1, 3, 1, 3, 1, 5, 1, 3, 5, 1, 3, 1, 3, 1,\n",
       "         3, 3, 3, 3, 1, 1, 1, 1, 1, 1, 1, 1, 1, 3, 3, 3, 3, 1, 3, 1, 1, 3,\n",
       "         3, 3, 3, 1, 3, 5, 3, 3, 3, 1, 5, 3, 2, 1, 2, 1, 1, 6, 3, 6, 1, 2,\n",
       "         2, 1, 2, 1, 1, 2, 1, 2, 6, 3, 2, 1, 6, 1, 2, 6, 1, 1, 1, 6, 6, 2,\n",
       "         1, 1, 1, 6, 2, 1, 1, 2, 2, 2, 1, 2, 2, 2, 1, 1, 2, 1])),\n",
       " (8,\n",
       "  array([5, 4, 4, 4, 5, 7, 4, 5, 4, 4, 5, 4, 4, 4, 7, 7, 7, 5, 7, 5, 5, 5,\n",
       "         5, 5, 4, 4, 5, 5, 5, 4, 4, 5, 7, 7, 4, 4, 5, 5, 4, 5, 5, 2, 4, 5,\n",
       "         5, 4, 5, 4, 5, 4, 1, 1, 1, 3, 1, 3, 1, 2, 1, 3, 2, 1, 3, 1, 3, 1,\n",
       "         3, 3, 3, 3, 1, 1, 1, 1, 1, 1, 1, 1, 1, 3, 3, 3, 3, 1, 3, 1, 1, 3,\n",
       "         3, 3, 3, 1, 3, 2, 3, 3, 3, 1, 2, 3, 0, 1, 0, 1, 1, 6, 3, 6, 1, 0,\n",
       "         0, 1, 0, 1, 1, 0, 1, 0, 6, 3, 0, 1, 6, 1, 0, 6, 1, 1, 1, 6, 6, 0,\n",
       "         1, 1, 1, 6, 0, 1, 1, 0, 0, 0, 1, 0, 0, 0, 1, 1, 0, 1])),\n",
       " (9,\n",
       "  array([5, 4, 4, 4, 5, 7, 4, 5, 4, 4, 5, 4, 4, 4, 7, 7, 7, 5, 7, 5, 5, 5,\n",
       "         5, 5, 4, 4, 5, 5, 5, 4, 4, 5, 7, 7, 4, 4, 5, 5, 4, 5, 5, 2, 4, 5,\n",
       "         5, 4, 5, 4, 5, 4, 0, 0, 0, 1, 0, 1, 0, 2, 0, 1, 2, 0, 1, 0, 1, 0,\n",
       "         1, 1, 1, 1, 0, 0, 0, 0, 0, 0, 0, 0, 0, 1, 1, 1, 1, 0, 1, 0, 0, 1,\n",
       "         1, 1, 1, 0, 1, 2, 1, 1, 1, 0, 2, 1, 3, 0, 3, 0, 0, 6, 1, 6, 0, 8,\n",
       "         3, 0, 3, 0, 0, 3, 0, 8, 6, 1, 3, 0, 6, 0, 3, 6, 0, 0, 0, 6, 6, 8,\n",
       "         0, 0, 0, 6, 3, 0, 0, 3, 3, 3, 0, 3, 3, 3, 0, 0, 3, 0]))]"
      ]
     },
     "execution_count": 139,
     "metadata": {},
     "output_type": "execute_result"
    }
   ],
   "source": [
    "all_labels"
   ]
  }
 ],
 "metadata": {
  "kernelspec": {
   "display_name": "Python (learn-env)",
   "language": "python",
   "name": "learn-env"
  },
  "language_info": {
   "codemirror_mode": {
    "name": "ipython",
    "version": 3
   },
   "file_extension": ".py",
   "mimetype": "text/x-python",
   "name": "python",
   "nbconvert_exporter": "python",
   "pygments_lexer": "ipython3",
   "version": "3.8.5"
  },
  "toc": {
   "base_numbering": 1,
   "nav_menu": {},
   "number_sections": true,
   "sideBar": true,
   "skip_h1_title": false,
   "title_cell": "Table of Contents",
   "title_sidebar": "Contents",
   "toc_cell": false,
   "toc_position": {},
   "toc_section_display": true,
   "toc_window_display": false
  },
  "varInspector": {
   "cols": {
    "lenName": 16,
    "lenType": 16,
    "lenVar": 40
   },
   "kernels_config": {
    "python": {
     "delete_cmd_postfix": "",
     "delete_cmd_prefix": "del ",
     "library": "var_list.py",
     "varRefreshCmd": "print(var_dic_list())"
    },
    "r": {
     "delete_cmd_postfix": ") ",
     "delete_cmd_prefix": "rm(",
     "library": "var_list.r",
     "varRefreshCmd": "cat(var_dic_list()) "
    }
   },
   "types_to_exclude": [
    "module",
    "function",
    "builtin_function_or_method",
    "instance",
    "_Feature"
   ],
   "window_display": false
  }
 },
 "nbformat": 4,
 "nbformat_minor": 4
}
