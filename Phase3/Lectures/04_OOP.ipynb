{
 "cells": [
  {
   "cell_type": "markdown",
   "metadata": {},
   "source": [
    "# Object Oriented Programming"
   ]
  },
  {
   "cell_type": "markdown",
   "metadata": {},
   "source": [
    "![fvo](https://cdn.educba.com/academy/wp-content/uploads/2018/07/Functional-Programming-vs-OOP-1.png)"
   ]
  },
  {
   "cell_type": "code",
   "execution_count": null,
   "metadata": {},
   "outputs": [],
   "source": [
    "import pandas as pd\n",
    "import inspect"
   ]
  },
  {
   "cell_type": "markdown",
   "metadata": {
    "heading_collapsed": true
   },
   "source": [
    "# Objectives"
   ]
  },
  {
   "cell_type": "markdown",
   "metadata": {
    "hidden": true
   },
   "source": [
    "- Understand the concept of **classes** and **objects**\n",
    "- Explain the idea that _\"everything in Python is an object\"_\n",
    "- Use the concept of an object's **property**\n",
    "- Use the concept of an object's **method**"
   ]
  },
  {
   "cell_type": "markdown",
   "metadata": {
    "heading_collapsed": true
   },
   "source": [
    "# Why Object-Oriented Programming?"
   ]
  },
  {
   "cell_type": "markdown",
   "metadata": {
    "hidden": true
   },
   "source": [
    "> **Object-oriented programming** or **OOP** is a common style of programming that can help with abstraction and organizing code."
   ]
  },
  {
   "cell_type": "markdown",
   "metadata": {
    "heading_collapsed": true,
    "hidden": true
   },
   "source": [
    "## Everyone Is Doing It!"
   ]
  },
  {
   "cell_type": "markdown",
   "metadata": {
    "hidden": true
   },
   "source": [
    "> A lot of code is written with OOP principles in mind."
   ]
  },
  {
   "attachments": {},
   "cell_type": "markdown",
   "metadata": {
    "hidden": true
   },
   "source": [
    "![fvo](images/codelanguages.jpeg)"
   ]
  },
  {
   "cell_type": "markdown",
   "metadata": {
    "hidden": true
   },
   "source": [
    "> Of these, Python Java, JavaScript, C++, C#, and Ruby are mostly or entirely OOP, while PHP and Perl have been adding OOP style functions in their latest versions. \n",
    "> Knowing OOP will help you become comfortable reading other people's code"
   ]
  },
  {
   "cell_type": "markdown",
   "metadata": {
    "heading_collapsed": true,
    "hidden": true
   },
   "source": [
    "## Method to Organize Code"
   ]
  },
  {
   "cell_type": "markdown",
   "metadata": {
    "hidden": true
   },
   "source": [
    "> We all know what ***things*** are"
   ]
  },
  {
   "cell_type": "markdown",
   "metadata": {
    "hidden": true
   },
   "source": [
    "![](images/thing1_thing2.jpg)"
   ]
  },
  {
   "cell_type": "markdown",
   "metadata": {
    "hidden": true
   },
   "source": [
    "> Easier to break down into physical items, activities, concepts [**nouns**]"
   ]
  },
  {
   "cell_type": "markdown",
   "metadata": {
    "heading_collapsed": true,
    "hidden": true
   },
   "source": [
    "## Flexible Usage"
   ]
  },
  {
   "cell_type": "markdown",
   "metadata": {
    "hidden": true
   },
   "source": [
    "> We can take a **class** (think *blueprint*) and modify it to our needs, mad scientist style!"
   ]
  },
  {
   "cell_type": "markdown",
   "metadata": {
    "hidden": true
   },
   "source": [
    "<img src='http://www.expertphp.in/images/articles/ArtImgC67UTd_classes_and_objects.jpg' width=75%/>"
   ]
  },
  {
   "cell_type": "markdown",
   "metadata": {
    "hidden": true
   },
   "source": [
    "> We don't have to reinvent the wheel!"
   ]
  },
  {
   "cell_type": "markdown",
   "metadata": {
    "heading_collapsed": true
   },
   "source": [
    "# What Are Classes and Objects?"
   ]
  },
  {
   "cell_type": "markdown",
   "metadata": {
    "hidden": true
   },
   "source": [
    "> A **class** is like a _blueprint_ or _mold_ \\\n",
    "> An **object** is made from the class (called *instantiation*), similar to making an item from the blueprint"
   ]
  },
  {
   "cell_type": "markdown",
   "metadata": {
    "hidden": true
   },
   "source": [
    "![blueprint](images/blueprint.jpeg)"
   ]
  },
  {
   "cell_type": "markdown",
   "metadata": {
    "hidden": true
   },
   "source": [
    "The class tells us how to make objects. We can make many objects based on the class.\n",
    "\n",
    "But our object (or **instance**) is still an individual and can be modified after being created (or **instantiated**)."
   ]
  },
  {
   "cell_type": "markdown",
   "metadata": {
    "heading_collapsed": true,
    "hidden": true
   },
   "source": [
    "## Everything in Python Is an Object"
   ]
  },
  {
   "cell_type": "markdown",
   "metadata": {
    "hidden": true
   },
   "source": [
    "> Turns out we've been using objects all along! \\\n",
    "> Python is an object-oriented programming language and is centered around having _everything_ as an object"
   ]
  },
  {
   "cell_type": "code",
   "execution_count": null,
   "metadata": {
    "hidden": true
   },
   "outputs": [],
   "source": [
    "# Two different Python \"objects\"\n",
    "my_integer = 3\n",
    "my_string = \"Hi\""
   ]
  },
  {
   "cell_type": "markdown",
   "metadata": {
    "hidden": true
   },
   "source": [
    "We can use the same operator to see the type of each object"
   ]
  },
  {
   "cell_type": "code",
   "execution_count": null,
   "metadata": {
    "hidden": true
   },
   "outputs": [],
   "source": [
    "type(my_integer)"
   ]
  },
  {
   "cell_type": "code",
   "execution_count": null,
   "metadata": {
    "hidden": true
   },
   "outputs": [],
   "source": [
    "type(my_string)"
   ]
  },
  {
   "cell_type": "markdown",
   "metadata": {
    "hidden": true
   },
   "source": [
    "We can even define our own functions that work the same for each object type:"
   ]
  },
  {
   "cell_type": "code",
   "execution_count": null,
   "metadata": {
    "hidden": true
   },
   "outputs": [],
   "source": [
    "def double_me(x):\n",
    "    return x + x"
   ]
  },
  {
   "cell_type": "code",
   "execution_count": null,
   "metadata": {
    "hidden": true
   },
   "outputs": [],
   "source": [
    "double_me(my_integer)"
   ]
  },
  {
   "cell_type": "code",
   "execution_count": null,
   "metadata": {
    "hidden": true
   },
   "outputs": [],
   "source": [
    "double_me(my_string)"
   ]
  },
  {
   "cell_type": "markdown",
   "metadata": {
    "hidden": true
   },
   "source": [
    "This is because there's some internal magic happening here. Whenever we do something like `x + x`, there's actually a special function tied to the object that is doing the work:"
   ]
  },
  {
   "cell_type": "code",
   "execution_count": null,
   "metadata": {
    "hidden": true
   },
   "outputs": [],
   "source": [
    "my_integer.__add__(10)"
   ]
  },
  {
   "cell_type": "code",
   "execution_count": null,
   "metadata": {
    "hidden": true,
    "scrolled": true
   },
   "outputs": [],
   "source": [
    "my_string.__add__('?')"
   ]
  },
  {
   "cell_type": "code",
   "execution_count": null,
   "metadata": {},
   "outputs": [],
   "source": [
    "my_string.__add__(10)"
   ]
  },
  {
   "cell_type": "markdown",
   "metadata": {
    "hidden": true
   },
   "source": [
    "In fact, there are a whole mess of these special functions tied to each object:"
   ]
  },
  {
   "cell_type": "code",
   "execution_count": null,
   "metadata": {
    "hidden": true,
    "scrolled": true
   },
   "outputs": [],
   "source": [
    "inspect.getmembers(my_string)"
   ]
  },
  {
   "cell_type": "markdown",
   "metadata": {
    "hidden": true
   },
   "source": [
    "These special functions tied to the object are called **methods**. We'll explore more of that soon."
   ]
  },
  {
   "cell_type": "markdown",
   "metadata": {
    "heading_collapsed": true,
    "hidden": true
   },
   "source": [
    "## Classes and Objects in Python"
   ]
  },
  {
   "cell_type": "markdown",
   "metadata": {
    "hidden": true
   },
   "source": [
    "> It turns out we can create own classes and instantiate their related objects in Python."
   ]
  },
  {
   "cell_type": "markdown",
   "metadata": {
    "hidden": true
   },
   "source": [
    "We can define **new** classes of objects altogether by using the keyword `class`:"
   ]
  },
  {
   "cell_type": "code",
   "execution_count": null,
   "metadata": {
    "hidden": true
   },
   "outputs": [],
   "source": [
    "class Robot:\n",
    "    pass"
   ]
  },
  {
   "cell_type": "code",
   "execution_count": null,
   "metadata": {
    "hidden": true
   },
   "outputs": [],
   "source": [
    "# Instantiate the object\n",
    "my_robot = Robot()\n",
    "type(my_robot)"
   ]
  },
  {
   "cell_type": "code",
   "execution_count": null,
   "metadata": {
    "hidden": true
   },
   "outputs": [],
   "source": [
    "my_robot"
   ]
  },
  {
   "cell_type": "code",
   "execution_count": null,
   "metadata": {
    "hidden": true
   },
   "outputs": [],
   "source": [
    "# My little army of many robots\n",
    "robot_army = [Robot() for _ in range(5)]\n",
    "robot_army"
   ]
  },
  {
   "cell_type": "code",
   "execution_count": null,
   "metadata": {
    "hidden": true
   },
   "outputs": [],
   "source": [
    "# Remember each robot is an individual, a special snowflake ❄️\n",
    "robot_army[0] is robot_army[1]"
   ]
  },
  {
   "cell_type": "markdown",
   "metadata": {
    "hidden": true
   },
   "source": [
    "In the next sections, we'll go over building up and customizing our class with something called **properties** and **methods**."
   ]
  },
  {
   "cell_type": "markdown",
   "metadata": {
    "heading_collapsed": true
   },
   "source": [
    "# Object Properties"
   ]
  },
  {
   "cell_type": "markdown",
   "metadata": {
    "hidden": true
   },
   "source": [
    "> Objects can have **properties** that contain information about the object. Also called **attributes** (typically used interchangeably with properties)"
   ]
  },
  {
   "cell_type": "markdown",
   "metadata": {
    "hidden": true
   },
   "source": [
    "This encapsulates something that belongs to an object after it's instantiated from a class."
   ]
  },
  {
   "cell_type": "markdown",
   "metadata": {
    "heading_collapsed": true,
    "hidden": true
   },
   "source": [
    "## Examples of Properties We've Seen"
   ]
  },
  {
   "cell_type": "markdown",
   "metadata": {
    "hidden": true
   },
   "source": [
    "Take our familiar friend, the [`Pandas` DataFrame](https://pandas.pydata.org/pandas-docs/stable/reference/api/pandas.DataFrame.html) for example."
   ]
  },
  {
   "cell_type": "code",
   "execution_count": null,
   "metadata": {
    "hidden": true
   },
   "outputs": [],
   "source": [
    "# Dataframes are another type of object.\n",
    "\n",
    "df = pd.DataFrame({'price': [50, 40, 30],'sqft': [1000, 950, 500]})"
   ]
  },
  {
   "cell_type": "code",
   "execution_count": null,
   "metadata": {
    "hidden": true
   },
   "outputs": [],
   "source": [
    "df"
   ]
  },
  {
   "cell_type": "code",
   "execution_count": null,
   "metadata": {
    "hidden": true
   },
   "outputs": [],
   "source": [
    "type(df)"
   ]
  },
  {
   "cell_type": "markdown",
   "metadata": {
    "hidden": true
   },
   "source": [
    "Instance attributes are associated with each unique object.\n",
    "They describe characteristics of the object, and are accessed with dot notation like so:"
   ]
  },
  {
   "cell_type": "code",
   "execution_count": null,
   "metadata": {},
   "outputs": [],
   "source": []
  },
  {
   "cell_type": "markdown",
   "metadata": {
    "hidden": true
   },
   "source": [
    "What are some other DataFrame attributes we know?:"
   ]
  },
  {
   "cell_type": "markdown",
   "metadata": {
    "heading_collapsed": true,
    "hidden": true
   },
   "source": [
    "## Building Up Our Class with Properties"
   ]
  },
  {
   "cell_type": "markdown",
   "metadata": {
    "hidden": true
   },
   "source": [
    "We can define properties after instantiating our object. Think of it as customization."
   ]
  },
  {
   "cell_type": "code",
   "execution_count": null,
   "metadata": {
    "hidden": true
   },
   "outputs": [],
   "source": [
    "my_robot = Robot()\n",
    "\n",
    "# Let's give it a name and a height!\n",
    "my_robot"
   ]
  },
  {
   "cell_type": "code",
   "execution_count": null,
   "metadata": {},
   "outputs": [],
   "source": [
    "my_robot.name = 'Dan'\n",
    "my_robot.height = '6 ft'"
   ]
  },
  {
   "cell_type": "code",
   "execution_count": null,
   "metadata": {
    "hidden": true
   },
   "outputs": [],
   "source": [
    "# It lives!!!!!\n",
    "print(my_robot.name, my_robot.height)"
   ]
  },
  {
   "cell_type": "markdown",
   "metadata": {
    "hidden": true
   },
   "source": [
    "But we can't call up properties it doesn't have:"
   ]
  },
  {
   "cell_type": "code",
   "execution_count": null,
   "metadata": {
    "hidden": true
   },
   "outputs": [],
   "source": [
    "# Uh oh, we didn't give it this property\n",
    "try:\n",
    "    print(my_robot.purpose)\n",
    "except Exception as err:\n",
    "    print(err)"
   ]
  },
  {
   "cell_type": "markdown",
   "metadata": {
    "hidden": true
   },
   "source": [
    "Wouldn't it be nice to have some built-in properties when we instantiated? We can!"
   ]
  },
  {
   "cell_type": "code",
   "execution_count": null,
   "metadata": {
    "hidden": true
   },
   "outputs": [],
   "source": [
    "class Robot:\n",
    "    '''Robot class''' # docstring is similar to functions; documents our class\n",
    "    purpose = 'To love humans'\n",
    "    name = None"
   ]
  },
  {
   "cell_type": "code",
   "execution_count": null,
   "metadata": {
    "hidden": true
   },
   "outputs": [],
   "source": [
    "# Give them life!\n",
    "my_robot = Robot()\n",
    "my_robot.name = 'Wall-E'\n",
    "my_robot.height = 100\n",
    "\n",
    "your_robot = Robot()\n",
    "your_robot.height = 200"
   ]
  },
  {
   "cell_type": "code",
   "execution_count": null,
   "metadata": {
    "hidden": true,
    "scrolled": true
   },
   "outputs": [],
   "source": [
    "print('What is your name?')\n",
    "print(my_robot.name)\n",
    "print()\n",
    "print('What is your purpose?')\n",
    "print(my_robot.purpose)"
   ]
  },
  {
   "cell_type": "code",
   "execution_count": null,
   "metadata": {},
   "outputs": [],
   "source": [
    "print('What is your name?')\n",
    "print(your_robot.name)\n",
    "print()\n",
    "print('What is your purpose?')\n",
    "print(your_robot.purpose)"
   ]
  },
  {
   "cell_type": "markdown",
   "metadata": {
    "heading_collapsed": true,
    "hidden": true
   },
   "source": [
    "### 🧠 Knowledge Check"
   ]
  },
  {
   "cell_type": "markdown",
   "metadata": {
    "hidden": true
   },
   "source": [
    "What should the code below print?"
   ]
  },
  {
   "cell_type": "code",
   "execution_count": null,
   "metadata": {
    "hidden": true
   },
   "outputs": [],
   "source": [
    "print(your_robot.name)\n",
    "print(your_robot.purpose)\n",
    "print(your_robot.height)"
   ]
  },
  {
   "cell_type": "markdown",
   "metadata": {
    "heading_collapsed": true,
    "hidden": true
   },
   "source": [
    "### Robot Override!!!"
   ]
  },
  {
   "cell_type": "code",
   "execution_count": null,
   "metadata": {
    "hidden": true
   },
   "outputs": [],
   "source": [
    "# Rogue robot!!!\n",
    "evil_robot = Robot()\n",
    "evil_robot.name = 'Bender'\n",
    "evil_robot.purpose = 'TO KILL ALL HUMANS!!!'"
   ]
  },
  {
   "cell_type": "code",
   "execution_count": null,
   "metadata": {
    "hidden": true
   },
   "outputs": [],
   "source": [
    "print('What is your name and your purpose?\\n')\n",
    "print(f'My name is {evil_robot.name} and my purpose is {evil_robot.purpose}')"
   ]
  },
  {
   "cell_type": "markdown",
   "metadata": {
    "heading_collapsed": true
   },
   "source": [
    "# Object Methods"
   ]
  },
  {
   "cell_type": "markdown",
   "metadata": {
    "hidden": true
   },
   "source": [
    "> We can also write functions that are associated with each class. \\\n",
    "> As said above, a function associated with a class is called a method."
   ]
  },
  {
   "cell_type": "markdown",
   "metadata": {
    "hidden": true
   },
   "source": [
    "A **method** is a function attached to an object:"
   ]
  },
  {
   "cell_type": "markdown",
   "metadata": {
    "heading_collapsed": true,
    "hidden": true
   },
   "source": [
    "## Examples of Methods We've Seen"
   ]
  },
  {
   "cell_type": "code",
   "execution_count": null,
   "metadata": {
    "hidden": true
   },
   "outputs": [],
   "source": [
    "df.info()"
   ]
  },
  {
   "cell_type": "code",
   "execution_count": null,
   "metadata": {
    "hidden": true
   },
   "outputs": [],
   "source": [
    "type(df.info())"
   ]
  },
  {
   "cell_type": "code",
   "execution_count": null,
   "metadata": {
    "hidden": true
   },
   "outputs": [],
   "source": [
    "# isna() is a method that comes along with the DataFrame object\n",
    "\n",
    "df.isna()"
   ]
  },
  {
   "cell_type": "markdown",
   "metadata": {
    "hidden": true
   },
   "source": [
    "What other DataFrame methods do we know?"
   ]
  },
  {
   "cell_type": "code",
   "execution_count": null,
   "metadata": {
    "hidden": true,
    "scrolled": true
   },
   "outputs": [],
   "source": []
  },
  {
   "cell_type": "markdown",
   "metadata": {
    "heading_collapsed": true,
    "hidden": true
   },
   "source": [
    "## Building Up Our Class with Methods"
   ]
  },
  {
   "cell_type": "markdown",
   "metadata": {
    "hidden": true
   },
   "source": [
    "We can also define our own methods for our class. "
   ]
  },
  {
   "cell_type": "markdown",
   "metadata": {
    "hidden": true
   },
   "source": [
    "This requires us to use `self` in our method.\n",
    "\n",
    "Every method should include `self` as its first parameter, **which refers to the individual object, i.e. to the instance of the class**."
   ]
  },
  {
   "cell_type": "code",
   "execution_count": null,
   "metadata": {},
   "outputs": [],
   "source": [
    "def some_function():\n",
    "    \"\"\"\n",
    "    Doc String\n",
    "    \n",
    "    \"\"\""
   ]
  },
  {
   "cell_type": "code",
   "execution_count": null,
   "metadata": {},
   "outputs": [],
   "source": [
    "some_function()"
   ]
  },
  {
   "cell_type": "code",
   "execution_count": null,
   "metadata": {
    "hidden": true
   },
   "outputs": [],
   "source": [
    "class Robot:\n",
    "    '''Robot class'''\n",
    "    ## These variables will belong to the Object\n",
    "    purpose = 'To love humans'\n",
    "    name = None\n",
    "\n",
    "    ## These methods belong to the Object (its \"self\")\n",
    "    \n",
    "    # Method that takes some inputs and returns like a normal function\n",
    "    def add_numbers(self, num0, num1):\n",
    "        return num0 + num1\n",
    "        \n",
    "    # No parameters; uses attributes of the Object\n",
    "    def speak(self):\n",
    "        print(f'I am {self.name}!')\n",
    "        \n",
    "    # Modifies the Object\n",
    "    def change_name(self, new_name):\n",
    "        self.name = new_name"
   ]
  },
  {
   "cell_type": "code",
   "execution_count": null,
   "metadata": {
    "hidden": true
   },
   "outputs": [],
   "source": [
    "walle = Robot()"
   ]
  },
  {
   "cell_type": "code",
   "execution_count": null,
   "metadata": {
    "hidden": true
   },
   "outputs": [],
   "source": [
    "print(f'''\n",
    "Name: {walle.name}\n",
    "Purpose: {walle.purpose}\n",
    "''')"
   ]
  },
  {
   "cell_type": "markdown",
   "metadata": {
    "hidden": true
   },
   "source": [
    "Let's look at those fancy methods the object has"
   ]
  },
  {
   "cell_type": "code",
   "execution_count": null,
   "metadata": {
    "hidden": true
   },
   "outputs": [],
   "source": [
    "walle.add_numbers(100, 1)"
   ]
  },
  {
   "cell_type": "code",
   "execution_count": null,
   "metadata": {
    "hidden": true
   },
   "outputs": [],
   "source": [
    "walle.speak()"
   ]
  },
  {
   "cell_type": "code",
   "execution_count": null,
   "metadata": {
    "hidden": true
   },
   "outputs": [],
   "source": [
    "# Let's give this robot an identity\n",
    "walle.change_name(\"Wall-e\")"
   ]
  },
  {
   "cell_type": "code",
   "execution_count": null,
   "metadata": {
    "hidden": true
   },
   "outputs": [],
   "source": [
    "# Now what does it say?\n",
    "walle.speak()"
   ]
  },
  {
   "cell_type": "code",
   "execution_count": null,
   "metadata": {},
   "outputs": [],
   "source": [
    "walle.name"
   ]
  },
  {
   "cell_type": "markdown",
   "metadata": {
    "heading_collapsed": true
   },
   "source": [
    "# Magic Methods"
   ]
  },
  {
   "cell_type": "markdown",
   "metadata": {
    "hidden": true
   },
   "source": [
    "It is common for a class to have magic methods. These are identifiable by the \"dunder\" (i.e. **d**ouble **under**score) prefixes and suffixes, such as `__init__()`. These methods will get called **automatically** as a result of a different call, as we'll see below."
   ]
  },
  {
   "cell_type": "markdown",
   "metadata": {
    "hidden": true
   },
   "source": [
    "> For more on these \"magic methods\", see the documentation [here](https://docs.python.org/3/reference/datamodel.html#special-method-names) and this useful tutorial [here](https://www.geeksforgeeks.org/dunder-magic-methods-python/)."
   ]
  },
  {
   "cell_type": "markdown",
   "metadata": {
    "heading_collapsed": true,
    "hidden": true
   },
   "source": [
    "## `__init__()`"
   ]
  },
  {
   "cell_type": "markdown",
   "metadata": {
    "hidden": true
   },
   "source": [
    "When we create an instance of a class, Python invokes the __init__ to initialize the object.  Let's add __init__ to our class."
   ]
  },
  {
   "cell_type": "code",
   "execution_count": null,
   "metadata": {
    "hidden": true
   },
   "outputs": [],
   "source": [
    "class Robot:\n",
    "    '''New and improved robot!'''\n",
    "    # We can still define attributes here\n",
    "    purpose = 'To love humans'\n",
    "    \n",
    "    # We'd like to start off with some initial attributes\n",
    "    def __init__(None)\n",
    "\n",
    "    # Method that takes some inputs and returns like a normal function\n",
    "    def add_numbers(self, num0, num1):\n",
    "        total = num0 + num1\n",
    "        return total\n",
    "\n",
    "    # No parameters; uses attributes of the Object\n",
    "    def speak(self):\n",
    "        print(f'I am {self.name}!')\n",
    "        \n",
    "    # Modifies the Object\n",
    "    def change_name(self, new_name):\n",
    "        self.name = new_name"
   ]
  },
  {
   "cell_type": "code",
   "execution_count": null,
   "metadata": {
    "hidden": true
   },
   "outputs": [],
   "source": [
    "walle = Robot('Wall-E')\n",
    "bender = Robot('Bender', 'Rodriguez')"
   ]
  },
  {
   "cell_type": "code",
   "execution_count": null,
   "metadata": {
    "hidden": true
   },
   "outputs": [],
   "source": [
    "walle.speak()\n",
    "print(walle.name)"
   ]
  },
  {
   "cell_type": "code",
   "execution_count": null,
   "metadata": {},
   "outputs": [],
   "source": [
    "walle.height"
   ]
  },
  {
   "cell_type": "code",
   "execution_count": null,
   "metadata": {},
   "outputs": [],
   "source": [
    "walle.first_name_"
   ]
  },
  {
   "cell_type": "code",
   "execution_count": null,
   "metadata": {
    "hidden": true,
    "scrolled": true
   },
   "outputs": [],
   "source": [
    "bender.speak()\n",
    "print(bender.name)"
   ]
  },
  {
   "cell_type": "code",
   "execution_count": null,
   "metadata": {},
   "outputs": [],
   "source": [
    "bender.height"
   ]
  },
  {
   "cell_type": "code",
   "execution_count": null,
   "metadata": {},
   "outputs": [],
   "source": [
    "bender.last_name_"
   ]
  },
  {
   "cell_type": "code",
   "execution_count": null,
   "metadata": {},
   "outputs": [],
   "source": [
    "str(bender)"
   ]
  },
  {
   "cell_type": "markdown",
   "metadata": {
    "hidden": true
   },
   "source": [
    "> **ASIDE**\n",
    ">\n",
    "> You might notice that if you change the `_first_name` or `_last_name` property of the object, the `name` property won't update as might be desired.\n",
    "> We can adjust this functionality using _setters_ and _getters_ in Python. This is getting a bit deeper into OOP so we won't go into this now."
   ]
  },
  {
   "cell_type": "code",
   "execution_count": null,
   "metadata": {},
   "outputs": [],
   "source": [
    "bender.change_name('Dan Burdeno')"
   ]
  },
  {
   "cell_type": "code",
   "execution_count": null,
   "metadata": {
    "scrolled": true
   },
   "outputs": [],
   "source": [
    "bender.speak()"
   ]
  },
  {
   "cell_type": "code",
   "execution_count": null,
   "metadata": {},
   "outputs": [],
   "source": [
    "bender.first_name_"
   ]
  },
  {
   "cell_type": "markdown",
   "metadata": {
    "heading_collapsed": true,
    "hidden": true
   },
   "source": [
    "## `__str__()`"
   ]
  },
  {
   "cell_type": "markdown",
   "metadata": {
    "hidden": true
   },
   "source": [
    " The `__str__()` magic method allows us to customize the string representation of the object. For example, when we use `print()` on the object, this magic method is called."
   ]
  },
  {
   "cell_type": "code",
   "execution_count": null,
   "metadata": {
    "hidden": true
   },
   "outputs": [],
   "source": [
    "class Robot:\n",
    "    '''New and improved robot!'''\n",
    "    # We can still define attributes here\n",
    "    purpose = 'To love humans'\n",
    "    \n",
    "    # We'd like to start off with some initial attributes\n",
    "    def __init__(self, first_name='Generic', last_name='Robot'):\n",
    "        # Clean the names of extra spaces at beginning & end\n",
    "        first_name = first_name.strip()\n",
    "        last_name = last_name.strip()\n",
    "        \n",
    "        # Setting properties\n",
    "        self._first_name = first_name\n",
    "        self._last_name = last_name\n",
    "        \n",
    "        # Combine first and last names and remove any extra spacing\n",
    "        self.name = ' '.join([first_name,last_name]).strip()\n",
    "\n",
    "    # Method that takes some inputs and returns like a normal function\n",
    "    def add_numbers(self, num0, num1):\n",
    "        total = num0 + num1\n",
    "        return total\n",
    "\n",
    "    # No parameters; uses attributes of the Object\n",
    "    def speak(self):\n",
    "        print(f'I am {self.name}!')\n",
    "        \n",
    "    # Modifies the Object\n",
    "    def change_name(self, new_name):\n",
    "        self.name =  new_name\n",
    "        \n",
    "    # We can define how it's string representation!\n",
    "    def __str__(self):\n",
    "        return f'Robot {self.name}'\n",
    "        "
   ]
  },
  {
   "cell_type": "code",
   "execution_count": null,
   "metadata": {
    "hidden": true
   },
   "outputs": [],
   "source": [
    "walle = Robot('Wall-E')\n",
    "bender = Robot('Bender', 'Rodriguez')"
   ]
  },
  {
   "cell_type": "code",
   "execution_count": null,
   "metadata": {},
   "outputs": [],
   "source": [
    "terminator = Robot()\n",
    "terminator.name"
   ]
  },
  {
   "cell_type": "code",
   "execution_count": null,
   "metadata": {
    "hidden": true,
    "scrolled": true
   },
   "outputs": [],
   "source": [
    "# Now we can see the string representation!\n",
    "print(walle)\n",
    "print(bender)"
   ]
  },
  {
   "cell_type": "code",
   "execution_count": null,
   "metadata": {},
   "outputs": [],
   "source": [
    "str(bender)"
   ]
  },
  {
   "cell_type": "code",
   "execution_count": null,
   "metadata": {
    "hidden": true
   },
   "outputs": [],
   "source": [
    "print(f'This is {str(walle)}')"
   ]
  },
  {
   "cell_type": "code",
   "execution_count": null,
   "metadata": {},
   "outputs": [],
   "source": [
    "walle._first_name"
   ]
  },
  {
   "cell_type": "code",
   "execution_count": null,
   "metadata": {},
   "outputs": [],
   "source": [
    "display(walle)"
   ]
  },
  {
   "cell_type": "markdown",
   "metadata": {},
   "source": [
    "## Objectives Recap"
   ]
  },
  {
   "cell_type": "markdown",
   "metadata": {},
   "source": [
    "- Understand the concept of **classes** and **objects**\n",
    "- Explain the idea that _\"everything in Python is an object\"_\n",
    "- Use the concept of an object's **property**\n",
    "- Use the concept of an object's **method**"
   ]
  },
  {
   "cell_type": "markdown",
   "metadata": {
    "heading_collapsed": true
   },
   "source": [
    "# Level Up: `*args` and `**kwargs`"
   ]
  },
  {
   "cell_type": "markdown",
   "metadata": {
    "hidden": true
   },
   "source": [
    "There are times when we want to have more flexibility in how we pass parameters to our functions/methods."
   ]
  },
  {
   "cell_type": "markdown",
   "metadata": {
    "hidden": true
   },
   "source": [
    "There's a whole lot we can discuss on this (checkout the [argument](https://docs.python.org/3/glossary.html#term-argument) & [parameter](https://docs.python.org/3/glossary.html#term-parameter) documentation for more details), but specifically we'll briefly discuss using `*args` and `**kwargs` in our functions/methods"
   ]
  },
  {
   "cell_type": "markdown",
   "metadata": {
    "hidden": true
   },
   "source": [
    "> **NOTE**\n",
    ">\n",
    "> `*args` and `**kwargs` can be used in methods (functions associated with classes & objects) or in plain functions"
   ]
  },
  {
   "cell_type": "markdown",
   "metadata": {
    "heading_collapsed": true,
    "hidden": true
   },
   "source": [
    "## `*` Operator: `*args`"
   ]
  },
  {
   "cell_type": "markdown",
   "metadata": {
    "hidden": true
   },
   "source": [
    "The single-asterisk operator `*` can be used to unpack iterables."
   ]
  },
  {
   "cell_type": "markdown",
   "metadata": {
    "hidden": true
   },
   "source": [
    "Suppose I am building a function that will return the product of inputted numbers. I might start with this:"
   ]
  },
  {
   "cell_type": "code",
   "execution_count": null,
   "metadata": {
    "hidden": true
   },
   "outputs": [],
   "source": [
    "def product(factor1, factor2):\n",
    "    out = factor1 * factor2\n",
    "    return out"
   ]
  },
  {
   "cell_type": "markdown",
   "metadata": {
    "hidden": true
   },
   "source": [
    "But if I want the product of *three* numbers this function won't do:\n",
    "\n",
    "```python\n",
    "product(3, 5, 6)\n",
    "```"
   ]
  },
  {
   "cell_type": "markdown",
   "metadata": {
    "hidden": true
   },
   "source": [
    "A nice way around this problem is to use the `*` operator."
   ]
  },
  {
   "cell_type": "code",
   "execution_count": null,
   "metadata": {
    "hidden": true
   },
   "outputs": [],
   "source": [
    "def product_better(*factors):\n",
    "    out = 1\n",
    "    for f in factors:\n",
    "        out *= f\n",
    "    return out"
   ]
  },
  {
   "cell_type": "code",
   "execution_count": null,
   "metadata": {
    "hidden": true
   },
   "outputs": [],
   "source": [
    "product_better(2)"
   ]
  },
  {
   "cell_type": "code",
   "execution_count": null,
   "metadata": {
    "hidden": true
   },
   "outputs": [],
   "source": [
    "product_better(2, 4)"
   ]
  },
  {
   "cell_type": "code",
   "execution_count": null,
   "metadata": {
    "hidden": true
   },
   "outputs": [],
   "source": [
    "product_better(2, 4, 8, 16, 32)"
   ]
  },
  {
   "cell_type": "markdown",
   "metadata": {
    "hidden": true
   },
   "source": [
    "We can also use this notation to unpack an iterable to a function and will use each value as a _positional parameter_."
   ]
  },
  {
   "cell_type": "code",
   "execution_count": null,
   "metadata": {
    "hidden": true
   },
   "outputs": [],
   "source": [
    "my_list_of_numbers = [1,2,3,4,5]\n",
    "\n",
    "print(*my_list_of_numbers)\n",
    "product_better(*my_list_of_numbers)"
   ]
  },
  {
   "cell_type": "code",
   "execution_count": null,
   "metadata": {
    "hidden": true
   },
   "outputs": [],
   "source": [
    "# Works for other iterables too!\n",
    "\n",
    "my_range = range(2,10,2)\n",
    "\n",
    "print(*my_range)\n",
    "product_better(*my_range)"
   ]
  },
  {
   "cell_type": "markdown",
   "metadata": {
    "heading_collapsed": true,
    "hidden": true
   },
   "source": [
    "## `**` Operator: `*kwargs`"
   ]
  },
  {
   "cell_type": "markdown",
   "metadata": {
    "hidden": true
   },
   "source": [
    "The double-asterisk operator  `∗∗`  is used for _keyword arguments_, i.e. _named arguments_."
   ]
  },
  {
   "cell_type": "code",
   "execution_count": null,
   "metadata": {
    "hidden": true
   },
   "outputs": [],
   "source": [
    "def hello_to_the_office(**kwargs):\n",
    "    hello_strs = []\n",
    "    # Iterate through each item of kwargs (a dictionary!)\n",
    "    for position_title, name in kwargs.items():\n",
    "        # Note that the keys are going to be treated as a string\n",
    "        hello_strs.append(f'Hi {name}, the {position_title.title()}!')\n",
    "    \n",
    "    print('\\n'.join(hello_strs))"
   ]
  },
  {
   "cell_type": "code",
   "execution_count": null,
   "metadata": {
    "hidden": true
   },
   "outputs": [],
   "source": [
    "hello_to_the_office(\n",
    "    regional_manager='Michael',\n",
    "    office_administrato='Pam',\n",
    "    regional_co_manager='Jim',\n",
    "    asssistant_to_the_regional_manager='Dwight'\n",
    ")"
   ]
  },
  {
   "cell_type": "markdown",
   "metadata": {
    "hidden": true
   },
   "source": [
    "Here's a more complicated function that also uses `**kwargs`"
   ]
  },
  {
   "cell_type": "code",
   "execution_count": null,
   "metadata": {
    "hidden": true
   },
   "outputs": [],
   "source": [
    "def report(to_print=True, **kwargs):\n",
    "    \n",
    "    # Effectively, kwargs is a dictionary\n",
    "    the_keys = ';'.join(kwargs.keys())\n",
    "    the_values = kwargs.values()\n",
    "    \n",
    "    # Note the safe way of getting the values\n",
    "    if kwargs.get('is_bot'):\n",
    "        print('ROBOT ALERT!!')\n",
    "    \n",
    "    if to_print:\n",
    "        print(f'''\n",
    "            The Keys:\n",
    "                {the_keys}\n",
    "            The Values:\n",
    "                {the_values}\n",
    "        ''')\n",
    "    else:\n",
    "        return the_keys, the_values"
   ]
  },
  {
   "cell_type": "code",
   "execution_count": null,
   "metadata": {
    "hidden": true
   },
   "outputs": [],
   "source": [
    "# Note that these arguments were never defined in the report() function\n",
    "report(name='Fry', birth_year=1985)"
   ]
  },
  {
   "cell_type": "code",
   "execution_count": null,
   "metadata": {
    "hidden": true
   },
   "outputs": [],
   "source": [
    "report(name='Bender', titanium_level=0.4, birth_year=2996, is_bot=True)"
   ]
  },
  {
   "cell_type": "markdown",
   "metadata": {
    "hidden": true
   },
   "source": [
    "We can also use the `**` operator to unpack a dictionary to a function as _named parameters_."
   ]
  },
  {
   "cell_type": "code",
   "execution_count": null,
   "metadata": {
    "hidden": true
   },
   "outputs": [],
   "source": [
    "def named_parameter_function(param0, param1, default=10):\n",
    "    return (param0, param1, default)"
   ]
  },
  {
   "cell_type": "code",
   "execution_count": null,
   "metadata": {
    "hidden": true
   },
   "outputs": [],
   "source": [
    "my_params = {'param0':'Zero', 'param1':10000, 'default':False}\n",
    "\n",
    "named_parameter_function(**my_params)"
   ]
  }
 ],
 "metadata": {
  "kernelspec": {
   "display_name": "Python (learn-env)",
   "language": "python",
   "name": "learn-env"
  },
  "language_info": {
   "codemirror_mode": {
    "name": "ipython",
    "version": 3
   },
   "file_extension": ".py",
   "mimetype": "text/x-python",
   "name": "python",
   "nbconvert_exporter": "python",
   "pygments_lexer": "ipython3",
   "version": "3.8.5"
  },
  "toc": {
   "base_numbering": 1,
   "nav_menu": {},
   "number_sections": true,
   "sideBar": true,
   "skip_h1_title": false,
   "title_cell": "Table of Contents",
   "title_sidebar": "TOC",
   "toc_cell": true,
   "toc_position": {
    "height": "439px",
    "left": "10px",
    "top": "150px",
    "width": "363px"
   },
   "toc_section_display": true,
   "toc_window_display": true
  }
 },
 "nbformat": 4,
 "nbformat_minor": 4
}
